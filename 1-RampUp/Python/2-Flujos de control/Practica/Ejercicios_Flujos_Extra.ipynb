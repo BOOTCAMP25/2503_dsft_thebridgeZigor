{
 "cells": [
  {
   "cell_type": "markdown",
   "metadata": {},
   "source": [
    "![imagen](./img/ejercicios.png)"
   ]
  },
  {
   "cell_type": "markdown",
   "metadata": {},
   "source": [
    "# Ejercicios Flujos de control"
   ]
  },
  {
   "cell_type": "markdown",
   "metadata": {},
   "source": [
    "## Ejercicio Extra\n",
    "Programa una calculadora que\n",
    "\n",
    "* Pregunte qué operación quieres realizar (multiplicación/división/suma/resta/potencia/salir)\n",
    "* Pida dos números \n",
    "* Realice la operación\n",
    "* Siga funcionando hasta que el usuario elija salir\n",
    "\n",
    "#### Bonus:\n",
    "* Que guarde todas las operaciones realizadas y las imprima por pantalla cuando el usuario elija esa opción\n",
    "* Que sea robusta frente a entradas erróneas del usuario o frente a operaciones como dividir por 0"
   ]
  },
  {
   "cell_type": "code",
   "execution_count": 4,
   "metadata": {},
   "outputs": [
    {
     "name": "stdout",
     "output_type": "stream",
     "text": [
      "Bienvenido a la calculadora. Escribe 'salir' para terminar.\n",
      "Entrada no válida. Por favor, introduce números.\n",
      "¡Hasta luego!\n"
     ]
    }
   ],
   "source": [
    "\n",
    "    print(\"Bienvenido a la calculadora. Escribe 'salir' para terminar.\")\n",
    "    \n",
    "    while True:\n",
    "        operacion = input(\"Introduce la operación (suma, resta, multiplicacion, division): \").lower()\n",
    "        \n",
    "        if operacion == 'salir':\n",
    "            print(\"¡Hasta luego!\")\n",
    "            break\n",
    "        \n",
    "        if operacion not in ['suma', 'resta', 'multiplicacion', 'division']:\n",
    "            print(\"Operación no válida. Inténtalo de nuevo.\")\n",
    "            continue\n",
    "        \n",
    "        try:\n",
    "            num1 = float(input(\"Introduce el primer número: \"))\n",
    "            num2 = float(input(\"Introduce el segundo número: \"))\n",
    "        except ValueError:\n",
    "            print(\"Entrada no válida. Por favor, introduce números.\")\n",
    "            continue\n",
    "        \n",
    "        if operacion == 'suma':\n",
    "            resultado = num1 + num2\n",
    "        elif operacion == 'resta':\n",
    "            resultado = num1 - num2\n",
    "        elif operacion == 'multiplicacion':\n",
    "            resultado = num1 * num2\n",
    "        elif operacion == 'division':\n",
    "            if num2 == 0:\n",
    "                print(\"No se puede dividir por cero. Inténtalo de nuevo.\")\n",
    "                continue\n",
    "            resultado = num1 / num2\n",
    "        \n",
    "        print(f\"El resultado de la {operacion} es: {resultado}\")\n",
    "        "
   ]
  },
  {
   "cell_type": "code",
   "execution_count": null,
   "metadata": {},
   "outputs": [],
   "source": []
  },
  {
   "cell_type": "markdown",
   "metadata": {},
   "source": [
    "## Ejercicio 6\n",
    "Dada la siguiente lista:\n",
    "\n",
    "> list1 = [12, 15, 32, 42, 55, 75, 122, 132, 150, 180, 200]\n",
    "\n",
    "Implementa un programa que los recorra e imprima por pantalla todos los divisibles por 5. Si nos encontramos con alguno que sea mayor que 150, detener el bucle."
   ]
  },
  {
   "cell_type": "code",
   "execution_count": 1,
   "metadata": {},
   "outputs": [
    {
     "name": "stdout",
     "output_type": "stream",
     "text": [
      "15\n",
      "55\n",
      "75\n",
      "150\n"
     ]
    }
   ],
   "source": [
    "list1 = [12,15,32,42,55,75,122,132,150,180,200]\n",
    "for i in list1:\n",
    "    if i%5 ==0:\n",
    "        print(i)\n",
    "    if i>=150:\n",
    "        break"
   ]
  },
  {
   "cell_type": "markdown",
   "metadata": {},
   "source": [
    "## Ejercicio 9\n",
    "En este ejercicio vamos a crear un pequeño juego. Se trata de intentar adivinar un numero del 1 al 5. Tenemos dos intentos para acertar. Pasos a seguir:\n",
    "\n",
    "1. Ya viene implementado con la librería `random` cómo obtener un número aleatorio del 1 al 5\n",
    "2. Tendrás que declarar en una variable el numero de vidas, y mediante un bucle while, comprobar que todavia quedan vidas.\n",
    "3. Dentro del bucle, obtener el valor del usuario y comprobar si es ese el numero a adivinar. Si no, actualizar las vidas.\n",
    "4. Si acertamos, salimos del bucle e imprimimos por pantalla \"You win\". Y si perdemos también salimos del bucle, pero en este caso imprimimos por pantalla \"You lose\".\n",
    "\n",
    "TIP: te puede resultar útil usar la sentencia `else` cuando acabe el bucle `while`. Lo que haya dentro de ese `else` se ejecutará una vez acabe la ejecución del `while`. Lo podrás usar para cuando pierdas."
   ]
  },
  {
   "cell_type": "code",
   "execution_count": 1,
   "metadata": {},
   "outputs": [
    {
     "name": "stdout",
     "output_type": "stream",
     "text": [
      "¡Adivina el número entre 1 y 100!\n",
      "Demasiado bajo.\n",
      "Demasiado bajo.\n",
      "Demasiado alto.\n",
      "Demasiado alto.\n",
      "Demasiado alto.\n",
      "You lose. El número era 56.\n"
     ]
    }
   ],
   "source": [
    "import random\n",
    "\n",
    "# Generar un número aleatorio entre 1 y 100\n",
    "numero_aleatorio = random.randint(1, 100)\n",
    "intentos = 0\n",
    "max_intentos = 5\n",
    "\n",
    "print(\"¡Adivina el número entre 1 y 100!\")\n",
    "\n",
    "while intentos < max_intentos:\n",
    "    intento = int(input(\"Introduce tu intento: \"))\n",
    "    intentos = intentos + 1\n",
    "    \n",
    "    if intento < numero_aleatorio:\n",
    "        print(\"Demasiado bajo.\")\n",
    "    elif intento > numero_aleatorio:\n",
    "        print(\"Demasiado alto.\")\n",
    "    else:\n",
    "        print(\"You Won\")\n",
    "        break\n",
    "\n",
    "if intentos == max_intentos and intento != numero_aleatorio:\n",
    "    print(f\"You lose. El número era {numero_aleatorio}.\")"
   ]
  }
 ],
 "metadata": {
  "kernelspec": {
   "display_name": "Python 3",
   "language": "python",
   "name": "python3"
  },
  "language_info": {
   "codemirror_mode": {
    "name": "ipython",
    "version": 3
   },
   "file_extension": ".py",
   "mimetype": "text/x-python",
   "name": "python",
   "nbconvert_exporter": "python",
   "pygments_lexer": "ipython3",
   "version": "3.11.9"
  }
 },
 "nbformat": 4,
 "nbformat_minor": 4
}
