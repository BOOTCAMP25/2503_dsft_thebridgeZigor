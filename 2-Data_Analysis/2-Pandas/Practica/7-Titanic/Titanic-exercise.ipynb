{
 "cells": [
  {
   "attachments": {},
   "cell_type": "markdown",
   "metadata": {},
   "source": [
    "   #                                                  Titanic Exercise \n",
    "\n",
    "   ![titanic](https://userscontent2.emaze.com/images/a5f68f37-6349-4065-a1fc-921cbe7401b2/958230111417e36d6b3c67ffd7bc3494.jpeg)\n",
    "   #### Practise Pandas"
   ]
  },
  {
   "attachments": {},
   "cell_type": "markdown",
   "metadata": {},
   "source": [
    "First of all, import the needed libraries. "
   ]
  },
  {
   "cell_type": "code",
   "execution_count": 2,
   "metadata": {},
   "outputs": [],
   "source": [
    "# Utilizaremos las siguientes librerías para el análisis\n",
    "import pandas as pd\n",
    "import numpy as np\n",
    "from scipy import stats\n",
    "import seaborn as sns\n",
    "import matplotlib.pyplot as plt\n",
    "import statistics"
   ]
  },
  {
   "attachments": {},
   "cell_type": "markdown",
   "metadata": {},
   "source": [
    "1. Read in filename and call the variable `titanic`\n",
    "    - Explore the `titanic` dataset using `info`, `dtypes` & `describe`\n",
    " "
   ]
  },
  {
   "cell_type": "code",
   "execution_count": 3,
   "metadata": {},
   "outputs": [
    {
     "name": "stdout",
     "output_type": "stream",
     "text": [
      "<class 'pandas.core.frame.DataFrame'>\n",
      "RangeIndex: 887 entries, 0 to 886\n",
      "Data columns (total 8 columns):\n",
      " #   Column                   Non-Null Count  Dtype  \n",
      "---  ------                   --------------  -----  \n",
      " 0   Survived                 887 non-null    int64  \n",
      " 1   Pclass                   887 non-null    int64  \n",
      " 2   Name                     887 non-null    object \n",
      " 3   Sex                      887 non-null    object \n",
      " 4   Age                      887 non-null    float64\n",
      " 5   Siblings/Spouses Aboard  887 non-null    int64  \n",
      " 6   Parents/Children Aboard  887 non-null    int64  \n",
      " 7   Fare                     887 non-null    float64\n",
      "dtypes: float64(2), int64(4), object(2)\n",
      "memory usage: 55.6+ KB\n"
     ]
    }
   ],
   "source": [
    "url = \"https://web.stanford.edu/class/archive/cs/cs109/cs109.1166/stuff/titanic.csv\"\n",
    "titanic = pd.read_csv(url)\n",
    "titanic.info()"
   ]
  },
  {
   "cell_type": "code",
   "execution_count": 4,
   "metadata": {},
   "outputs": [
    {
     "name": "stdout",
     "output_type": "stream",
     "text": [
      "<class 'pandas.core.frame.DataFrame'>\n",
      "RangeIndex: 887 entries, 0 to 886\n",
      "Data columns (total 8 columns):\n",
      " #   Column                   Non-Null Count  Dtype  \n",
      "---  ------                   --------------  -----  \n",
      " 0   Survived                 887 non-null    int64  \n",
      " 1   Pclass                   887 non-null    int64  \n",
      " 2   Name                     887 non-null    object \n",
      " 3   Sex                      887 non-null    object \n",
      " 4   Age                      887 non-null    float64\n",
      " 5   Siblings/Spouses Aboard  887 non-null    int64  \n",
      " 6   Parents/Children Aboard  887 non-null    int64  \n",
      " 7   Fare                     887 non-null    float64\n",
      "dtypes: float64(2), int64(4), object(2)\n",
      "memory usage: 55.6+ KB\n"
     ]
    }
   ],
   "source": [
    "titanic.info()"
   ]
  },
  {
   "cell_type": "code",
   "execution_count": 5,
   "metadata": {},
   "outputs": [
    {
     "data": {
      "text/plain": [
       "(887, 8)"
      ]
     },
     "execution_count": 5,
     "metadata": {},
     "output_type": "execute_result"
    }
   ],
   "source": [
    "titanic.shape\n"
   ]
  },
  {
   "cell_type": "code",
   "execution_count": 6,
   "metadata": {},
   "outputs": [
    {
     "data": {
      "application/vnd.microsoft.datawrangler.viewer.v0+json": {
       "columns": [
        {
         "name": "index",
         "rawType": "object",
         "type": "string"
        },
        {
         "name": "Survived",
         "rawType": "float64",
         "type": "float"
        },
        {
         "name": "Pclass",
         "rawType": "float64",
         "type": "float"
        },
        {
         "name": "Age",
         "rawType": "float64",
         "type": "float"
        },
        {
         "name": "Siblings/Spouses Aboard",
         "rawType": "float64",
         "type": "float"
        },
        {
         "name": "Parents/Children Aboard",
         "rawType": "float64",
         "type": "float"
        },
        {
         "name": "Fare",
         "rawType": "float64",
         "type": "float"
        }
       ],
       "conversionMethod": "pd.DataFrame",
       "ref": "e123925a-46ba-44ad-971c-84f38585235c",
       "rows": [
        [
         "count",
         "887.0",
         "887.0",
         "887.0",
         "887.0",
         "887.0",
         "887.0"
        ],
        [
         "mean",
         "0.3855693348365276",
         "2.305524239007892",
         "29.471443066516347",
         "0.5253664036076663",
         "0.3833145434047351",
         "32.30542018038331"
        ],
        [
         "std",
         "0.4870041177510123",
         "0.8366620036697732",
         "14.12190840546256",
         "1.10466855386757",
         "0.8074659070316833",
         "49.78204040017391"
        ],
        [
         "min",
         "0.0",
         "1.0",
         "0.42",
         "0.0",
         "0.0",
         "0.0"
        ],
        [
         "25%",
         "0.0",
         "2.0",
         "20.25",
         "0.0",
         "0.0",
         "7.925"
        ],
        [
         "50%",
         "0.0",
         "3.0",
         "28.0",
         "0.0",
         "0.0",
         "14.4542"
        ],
        [
         "75%",
         "1.0",
         "3.0",
         "38.0",
         "1.0",
         "0.0",
         "31.1375"
        ],
        [
         "max",
         "1.0",
         "3.0",
         "80.0",
         "8.0",
         "6.0",
         "512.3292"
        ]
       ],
       "shape": {
        "columns": 6,
        "rows": 8
       }
      },
      "text/html": [
       "<div>\n",
       "<style scoped>\n",
       "    .dataframe tbody tr th:only-of-type {\n",
       "        vertical-align: middle;\n",
       "    }\n",
       "\n",
       "    .dataframe tbody tr th {\n",
       "        vertical-align: top;\n",
       "    }\n",
       "\n",
       "    .dataframe thead th {\n",
       "        text-align: right;\n",
       "    }\n",
       "</style>\n",
       "<table border=\"1\" class=\"dataframe\">\n",
       "  <thead>\n",
       "    <tr style=\"text-align: right;\">\n",
       "      <th></th>\n",
       "      <th>Survived</th>\n",
       "      <th>Pclass</th>\n",
       "      <th>Age</th>\n",
       "      <th>Siblings/Spouses Aboard</th>\n",
       "      <th>Parents/Children Aboard</th>\n",
       "      <th>Fare</th>\n",
       "    </tr>\n",
       "  </thead>\n",
       "  <tbody>\n",
       "    <tr>\n",
       "      <th>count</th>\n",
       "      <td>887.000000</td>\n",
       "      <td>887.000000</td>\n",
       "      <td>887.000000</td>\n",
       "      <td>887.000000</td>\n",
       "      <td>887.000000</td>\n",
       "      <td>887.00000</td>\n",
       "    </tr>\n",
       "    <tr>\n",
       "      <th>mean</th>\n",
       "      <td>0.385569</td>\n",
       "      <td>2.305524</td>\n",
       "      <td>29.471443</td>\n",
       "      <td>0.525366</td>\n",
       "      <td>0.383315</td>\n",
       "      <td>32.30542</td>\n",
       "    </tr>\n",
       "    <tr>\n",
       "      <th>std</th>\n",
       "      <td>0.487004</td>\n",
       "      <td>0.836662</td>\n",
       "      <td>14.121908</td>\n",
       "      <td>1.104669</td>\n",
       "      <td>0.807466</td>\n",
       "      <td>49.78204</td>\n",
       "    </tr>\n",
       "    <tr>\n",
       "      <th>min</th>\n",
       "      <td>0.000000</td>\n",
       "      <td>1.000000</td>\n",
       "      <td>0.420000</td>\n",
       "      <td>0.000000</td>\n",
       "      <td>0.000000</td>\n",
       "      <td>0.00000</td>\n",
       "    </tr>\n",
       "    <tr>\n",
       "      <th>25%</th>\n",
       "      <td>0.000000</td>\n",
       "      <td>2.000000</td>\n",
       "      <td>20.250000</td>\n",
       "      <td>0.000000</td>\n",
       "      <td>0.000000</td>\n",
       "      <td>7.92500</td>\n",
       "    </tr>\n",
       "    <tr>\n",
       "      <th>50%</th>\n",
       "      <td>0.000000</td>\n",
       "      <td>3.000000</td>\n",
       "      <td>28.000000</td>\n",
       "      <td>0.000000</td>\n",
       "      <td>0.000000</td>\n",
       "      <td>14.45420</td>\n",
       "    </tr>\n",
       "    <tr>\n",
       "      <th>75%</th>\n",
       "      <td>1.000000</td>\n",
       "      <td>3.000000</td>\n",
       "      <td>38.000000</td>\n",
       "      <td>1.000000</td>\n",
       "      <td>0.000000</td>\n",
       "      <td>31.13750</td>\n",
       "    </tr>\n",
       "    <tr>\n",
       "      <th>max</th>\n",
       "      <td>1.000000</td>\n",
       "      <td>3.000000</td>\n",
       "      <td>80.000000</td>\n",
       "      <td>8.000000</td>\n",
       "      <td>6.000000</td>\n",
       "      <td>512.32920</td>\n",
       "    </tr>\n",
       "  </tbody>\n",
       "</table>\n",
       "</div>"
      ],
      "text/plain": [
       "         Survived      Pclass         Age  Siblings/Spouses Aboard  \\\n",
       "count  887.000000  887.000000  887.000000               887.000000   \n",
       "mean     0.385569    2.305524   29.471443                 0.525366   \n",
       "std      0.487004    0.836662   14.121908                 1.104669   \n",
       "min      0.000000    1.000000    0.420000                 0.000000   \n",
       "25%      0.000000    2.000000   20.250000                 0.000000   \n",
       "50%      0.000000    3.000000   28.000000                 0.000000   \n",
       "75%      1.000000    3.000000   38.000000                 1.000000   \n",
       "max      1.000000    3.000000   80.000000                 8.000000   \n",
       "\n",
       "       Parents/Children Aboard       Fare  \n",
       "count               887.000000  887.00000  \n",
       "mean                  0.383315   32.30542  \n",
       "std                   0.807466   49.78204  \n",
       "min                   0.000000    0.00000  \n",
       "25%                   0.000000    7.92500  \n",
       "50%                   0.000000   14.45420  \n",
       "75%                   0.000000   31.13750  \n",
       "max                   6.000000  512.32920  "
      ]
     },
     "execution_count": 6,
     "metadata": {},
     "output_type": "execute_result"
    }
   ],
   "source": [
    "titanic.describe()"
   ]
  },
  {
   "attachments": {},
   "cell_type": "markdown",
   "metadata": {},
   "source": [
    "2. Create a separate dataframe with the columns `['name', 'sex', 'age']`, call it `people`\n",
    "\n",
    "It can be done two ways, do it both!"
   ]
  },
  {
   "cell_type": "code",
   "execution_count": 7,
   "metadata": {},
   "outputs": [
    {
     "name": "stdout",
     "output_type": "stream",
     "text": [
      "                                                  Name     Sex   Age\n",
      "0                               Mr. Owen Harris Braund    male  22.0\n",
      "1    Mrs. John Bradley (Florence Briggs Thayer) Cum...  female  38.0\n",
      "2                                Miss. Laina Heikkinen  female  26.0\n",
      "3          Mrs. Jacques Heath (Lily May Peel) Futrelle  female  35.0\n",
      "4                              Mr. William Henry Allen    male  35.0\n",
      "..                                                 ...     ...   ...\n",
      "882                               Rev. Juozas Montvila    male  27.0\n",
      "883                        Miss. Margaret Edith Graham  female  19.0\n",
      "884                     Miss. Catherine Helen Johnston  female   7.0\n",
      "885                               Mr. Karl Howell Behr    male  26.0\n",
      "886                                 Mr. Patrick Dooley    male  32.0\n",
      "\n",
      "[887 rows x 3 columns]\n"
     ]
    }
   ],
   "source": [
    "\n",
    "people = titanic[['Name', 'Sex', 'Age']].copy()  # Select the specified columns and make a copy\n",
    "\n",
    "print(people)"
   ]
  },
  {
   "attachments": {},
   "cell_type": "markdown",
   "metadata": {},
   "source": [
    "3. Print the output of `people` showing the first three rows and the last four rows, using `append`,`tail` and `head`"
   ]
  },
  {
   "cell_type": "code",
   "execution_count": 8,
   "metadata": {},
   "outputs": [
    {
     "data": {
      "application/vnd.microsoft.datawrangler.viewer.v0+json": {
       "columns": [
        {
         "name": "index",
         "rawType": "int64",
         "type": "integer"
        },
        {
         "name": "Survived",
         "rawType": "int64",
         "type": "integer"
        },
        {
         "name": "Pclass",
         "rawType": "int64",
         "type": "integer"
        },
        {
         "name": "Name",
         "rawType": "object",
         "type": "string"
        },
        {
         "name": "Sex",
         "rawType": "object",
         "type": "string"
        },
        {
         "name": "Age",
         "rawType": "float64",
         "type": "float"
        },
        {
         "name": "Siblings/Spouses Aboard",
         "rawType": "int64",
         "type": "integer"
        },
        {
         "name": "Parents/Children Aboard",
         "rawType": "int64",
         "type": "integer"
        },
        {
         "name": "Fare",
         "rawType": "float64",
         "type": "float"
        }
       ],
       "conversionMethod": "pd.DataFrame",
       "ref": "04760afa-5d6d-4808-8f5c-73a72772126e",
       "rows": [
        [
         "0",
         "0",
         "3",
         "Mr. Owen Harris Braund",
         "male",
         "22.0",
         "1",
         "0",
         "7.25"
        ],
        [
         "1",
         "1",
         "1",
         "Mrs. John Bradley (Florence Briggs Thayer) Cumings",
         "female",
         "38.0",
         "1",
         "0",
         "71.2833"
        ],
        [
         "2",
         "1",
         "3",
         "Miss. Laina Heikkinen",
         "female",
         "26.0",
         "0",
         "0",
         "7.925"
        ]
       ],
       "shape": {
        "columns": 8,
        "rows": 3
       }
      },
      "text/html": [
       "<div>\n",
       "<style scoped>\n",
       "    .dataframe tbody tr th:only-of-type {\n",
       "        vertical-align: middle;\n",
       "    }\n",
       "\n",
       "    .dataframe tbody tr th {\n",
       "        vertical-align: top;\n",
       "    }\n",
       "\n",
       "    .dataframe thead th {\n",
       "        text-align: right;\n",
       "    }\n",
       "</style>\n",
       "<table border=\"1\" class=\"dataframe\">\n",
       "  <thead>\n",
       "    <tr style=\"text-align: right;\">\n",
       "      <th></th>\n",
       "      <th>Survived</th>\n",
       "      <th>Pclass</th>\n",
       "      <th>Name</th>\n",
       "      <th>Sex</th>\n",
       "      <th>Age</th>\n",
       "      <th>Siblings/Spouses Aboard</th>\n",
       "      <th>Parents/Children Aboard</th>\n",
       "      <th>Fare</th>\n",
       "    </tr>\n",
       "  </thead>\n",
       "  <tbody>\n",
       "    <tr>\n",
       "      <th>0</th>\n",
       "      <td>0</td>\n",
       "      <td>3</td>\n",
       "      <td>Mr. Owen Harris Braund</td>\n",
       "      <td>male</td>\n",
       "      <td>22.0</td>\n",
       "      <td>1</td>\n",
       "      <td>0</td>\n",
       "      <td>7.2500</td>\n",
       "    </tr>\n",
       "    <tr>\n",
       "      <th>1</th>\n",
       "      <td>1</td>\n",
       "      <td>1</td>\n",
       "      <td>Mrs. John Bradley (Florence Briggs Thayer) Cum...</td>\n",
       "      <td>female</td>\n",
       "      <td>38.0</td>\n",
       "      <td>1</td>\n",
       "      <td>0</td>\n",
       "      <td>71.2833</td>\n",
       "    </tr>\n",
       "    <tr>\n",
       "      <th>2</th>\n",
       "      <td>1</td>\n",
       "      <td>3</td>\n",
       "      <td>Miss. Laina Heikkinen</td>\n",
       "      <td>female</td>\n",
       "      <td>26.0</td>\n",
       "      <td>0</td>\n",
       "      <td>0</td>\n",
       "      <td>7.9250</td>\n",
       "    </tr>\n",
       "  </tbody>\n",
       "</table>\n",
       "</div>"
      ],
      "text/plain": [
       "   Survived  Pclass                                               Name  \\\n",
       "0         0       3                             Mr. Owen Harris Braund   \n",
       "1         1       1  Mrs. John Bradley (Florence Briggs Thayer) Cum...   \n",
       "2         1       3                              Miss. Laina Heikkinen   \n",
       "\n",
       "      Sex   Age  Siblings/Spouses Aboard  Parents/Children Aboard     Fare  \n",
       "0    male  22.0                        1                        0   7.2500  \n",
       "1  female  38.0                        1                        0  71.2833  \n",
       "2  female  26.0                        0                        0   7.9250  "
      ]
     },
     "execution_count": 8,
     "metadata": {},
     "output_type": "execute_result"
    }
   ],
   "source": [
    "titanic.head(3)"
   ]
  },
  {
   "cell_type": "code",
   "execution_count": 9,
   "metadata": {},
   "outputs": [
    {
     "data": {
      "application/vnd.microsoft.datawrangler.viewer.v0+json": {
       "columns": [
        {
         "name": "index",
         "rawType": "int64",
         "type": "integer"
        },
        {
         "name": "Survived",
         "rawType": "int64",
         "type": "integer"
        },
        {
         "name": "Pclass",
         "rawType": "int64",
         "type": "integer"
        },
        {
         "name": "Name",
         "rawType": "object",
         "type": "string"
        },
        {
         "name": "Sex",
         "rawType": "object",
         "type": "string"
        },
        {
         "name": "Age",
         "rawType": "float64",
         "type": "float"
        },
        {
         "name": "Siblings/Spouses Aboard",
         "rawType": "int64",
         "type": "integer"
        },
        {
         "name": "Parents/Children Aboard",
         "rawType": "int64",
         "type": "integer"
        },
        {
         "name": "Fare",
         "rawType": "float64",
         "type": "float"
        }
       ],
       "conversionMethod": "pd.DataFrame",
       "ref": "c23d7618-a4e8-43af-9a56-3840955ff11f",
       "rows": [
        [
         "883",
         "1",
         "1",
         "Miss. Margaret Edith Graham",
         "female",
         "19.0",
         "0",
         "0",
         "30.0"
        ],
        [
         "884",
         "0",
         "3",
         "Miss. Catherine Helen Johnston",
         "female",
         "7.0",
         "1",
         "2",
         "23.45"
        ],
        [
         "885",
         "1",
         "1",
         "Mr. Karl Howell Behr",
         "male",
         "26.0",
         "0",
         "0",
         "30.0"
        ],
        [
         "886",
         "0",
         "3",
         "Mr. Patrick Dooley",
         "male",
         "32.0",
         "0",
         "0",
         "7.75"
        ]
       ],
       "shape": {
        "columns": 8,
        "rows": 4
       }
      },
      "text/html": [
       "<div>\n",
       "<style scoped>\n",
       "    .dataframe tbody tr th:only-of-type {\n",
       "        vertical-align: middle;\n",
       "    }\n",
       "\n",
       "    .dataframe tbody tr th {\n",
       "        vertical-align: top;\n",
       "    }\n",
       "\n",
       "    .dataframe thead th {\n",
       "        text-align: right;\n",
       "    }\n",
       "</style>\n",
       "<table border=\"1\" class=\"dataframe\">\n",
       "  <thead>\n",
       "    <tr style=\"text-align: right;\">\n",
       "      <th></th>\n",
       "      <th>Survived</th>\n",
       "      <th>Pclass</th>\n",
       "      <th>Name</th>\n",
       "      <th>Sex</th>\n",
       "      <th>Age</th>\n",
       "      <th>Siblings/Spouses Aboard</th>\n",
       "      <th>Parents/Children Aboard</th>\n",
       "      <th>Fare</th>\n",
       "    </tr>\n",
       "  </thead>\n",
       "  <tbody>\n",
       "    <tr>\n",
       "      <th>883</th>\n",
       "      <td>1</td>\n",
       "      <td>1</td>\n",
       "      <td>Miss. Margaret Edith Graham</td>\n",
       "      <td>female</td>\n",
       "      <td>19.0</td>\n",
       "      <td>0</td>\n",
       "      <td>0</td>\n",
       "      <td>30.00</td>\n",
       "    </tr>\n",
       "    <tr>\n",
       "      <th>884</th>\n",
       "      <td>0</td>\n",
       "      <td>3</td>\n",
       "      <td>Miss. Catherine Helen Johnston</td>\n",
       "      <td>female</td>\n",
       "      <td>7.0</td>\n",
       "      <td>1</td>\n",
       "      <td>2</td>\n",
       "      <td>23.45</td>\n",
       "    </tr>\n",
       "    <tr>\n",
       "      <th>885</th>\n",
       "      <td>1</td>\n",
       "      <td>1</td>\n",
       "      <td>Mr. Karl Howell Behr</td>\n",
       "      <td>male</td>\n",
       "      <td>26.0</td>\n",
       "      <td>0</td>\n",
       "      <td>0</td>\n",
       "      <td>30.00</td>\n",
       "    </tr>\n",
       "    <tr>\n",
       "      <th>886</th>\n",
       "      <td>0</td>\n",
       "      <td>3</td>\n",
       "      <td>Mr. Patrick Dooley</td>\n",
       "      <td>male</td>\n",
       "      <td>32.0</td>\n",
       "      <td>0</td>\n",
       "      <td>0</td>\n",
       "      <td>7.75</td>\n",
       "    </tr>\n",
       "  </tbody>\n",
       "</table>\n",
       "</div>"
      ],
      "text/plain": [
       "     Survived  Pclass                            Name     Sex   Age  \\\n",
       "883         1       1     Miss. Margaret Edith Graham  female  19.0   \n",
       "884         0       3  Miss. Catherine Helen Johnston  female   7.0   \n",
       "885         1       1            Mr. Karl Howell Behr    male  26.0   \n",
       "886         0       3              Mr. Patrick Dooley    male  32.0   \n",
       "\n",
       "     Siblings/Spouses Aboard  Parents/Children Aboard   Fare  \n",
       "883                        0                        0  30.00  \n",
       "884                        1                        2  23.45  \n",
       "885                        0                        0  30.00  \n",
       "886                        0                        0   7.75  "
      ]
     },
     "execution_count": 9,
     "metadata": {},
     "output_type": "execute_result"
    }
   ],
   "source": [
    "titanic.tail(4)"
   ]
  },
  {
   "attachments": {},
   "cell_type": "markdown",
   "metadata": {},
   "source": [
    "4. Slice the row from 3 to 9, call it `s_titanic`"
   ]
  },
  {
   "cell_type": "code",
   "execution_count": 10,
   "metadata": {},
   "outputs": [
    {
     "data": {
      "application/vnd.microsoft.datawrangler.viewer.v0+json": {
       "columns": [
        {
         "name": "index",
         "rawType": "int64",
         "type": "integer"
        },
        {
         "name": "Survived",
         "rawType": "int64",
         "type": "integer"
        },
        {
         "name": "Pclass",
         "rawType": "int64",
         "type": "integer"
        },
        {
         "name": "Name",
         "rawType": "object",
         "type": "string"
        },
        {
         "name": "Sex",
         "rawType": "object",
         "type": "string"
        },
        {
         "name": "Age",
         "rawType": "float64",
         "type": "float"
        },
        {
         "name": "Siblings/Spouses Aboard",
         "rawType": "int64",
         "type": "integer"
        },
        {
         "name": "Parents/Children Aboard",
         "rawType": "int64",
         "type": "integer"
        },
        {
         "name": "Fare",
         "rawType": "float64",
         "type": "float"
        }
       ],
       "conversionMethod": "pd.DataFrame",
       "ref": "bfd2f60f-151b-4116-a2b6-0d80be2a6cf4",
       "rows": [
        [
         "3",
         "1",
         "1",
         "Mrs. Jacques Heath (Lily May Peel) Futrelle",
         "female",
         "35.0",
         "1",
         "0",
         "53.1"
        ],
        [
         "4",
         "0",
         "3",
         "Mr. William Henry Allen",
         "male",
         "35.0",
         "0",
         "0",
         "8.05"
        ],
        [
         "5",
         "0",
         "3",
         "Mr. James Moran",
         "male",
         "27.0",
         "0",
         "0",
         "8.4583"
        ],
        [
         "6",
         "0",
         "1",
         "Mr. Timothy J McCarthy",
         "male",
         "54.0",
         "0",
         "0",
         "51.8625"
        ],
        [
         "7",
         "0",
         "3",
         "Master. Gosta Leonard Palsson",
         "male",
         "2.0",
         "3",
         "1",
         "21.075"
        ],
        [
         "8",
         "1",
         "3",
         "Mrs. Oscar W (Elisabeth Vilhelmina Berg) Johnson",
         "female",
         "27.0",
         "0",
         "2",
         "11.1333"
        ]
       ],
       "shape": {
        "columns": 8,
        "rows": 6
       }
      },
      "text/html": [
       "<div>\n",
       "<style scoped>\n",
       "    .dataframe tbody tr th:only-of-type {\n",
       "        vertical-align: middle;\n",
       "    }\n",
       "\n",
       "    .dataframe tbody tr th {\n",
       "        vertical-align: top;\n",
       "    }\n",
       "\n",
       "    .dataframe thead th {\n",
       "        text-align: right;\n",
       "    }\n",
       "</style>\n",
       "<table border=\"1\" class=\"dataframe\">\n",
       "  <thead>\n",
       "    <tr style=\"text-align: right;\">\n",
       "      <th></th>\n",
       "      <th>Survived</th>\n",
       "      <th>Pclass</th>\n",
       "      <th>Name</th>\n",
       "      <th>Sex</th>\n",
       "      <th>Age</th>\n",
       "      <th>Siblings/Spouses Aboard</th>\n",
       "      <th>Parents/Children Aboard</th>\n",
       "      <th>Fare</th>\n",
       "    </tr>\n",
       "  </thead>\n",
       "  <tbody>\n",
       "    <tr>\n",
       "      <th>3</th>\n",
       "      <td>1</td>\n",
       "      <td>1</td>\n",
       "      <td>Mrs. Jacques Heath (Lily May Peel) Futrelle</td>\n",
       "      <td>female</td>\n",
       "      <td>35.0</td>\n",
       "      <td>1</td>\n",
       "      <td>0</td>\n",
       "      <td>53.1000</td>\n",
       "    </tr>\n",
       "    <tr>\n",
       "      <th>4</th>\n",
       "      <td>0</td>\n",
       "      <td>3</td>\n",
       "      <td>Mr. William Henry Allen</td>\n",
       "      <td>male</td>\n",
       "      <td>35.0</td>\n",
       "      <td>0</td>\n",
       "      <td>0</td>\n",
       "      <td>8.0500</td>\n",
       "    </tr>\n",
       "    <tr>\n",
       "      <th>5</th>\n",
       "      <td>0</td>\n",
       "      <td>3</td>\n",
       "      <td>Mr. James Moran</td>\n",
       "      <td>male</td>\n",
       "      <td>27.0</td>\n",
       "      <td>0</td>\n",
       "      <td>0</td>\n",
       "      <td>8.4583</td>\n",
       "    </tr>\n",
       "    <tr>\n",
       "      <th>6</th>\n",
       "      <td>0</td>\n",
       "      <td>1</td>\n",
       "      <td>Mr. Timothy J McCarthy</td>\n",
       "      <td>male</td>\n",
       "      <td>54.0</td>\n",
       "      <td>0</td>\n",
       "      <td>0</td>\n",
       "      <td>51.8625</td>\n",
       "    </tr>\n",
       "    <tr>\n",
       "      <th>7</th>\n",
       "      <td>0</td>\n",
       "      <td>3</td>\n",
       "      <td>Master. Gosta Leonard Palsson</td>\n",
       "      <td>male</td>\n",
       "      <td>2.0</td>\n",
       "      <td>3</td>\n",
       "      <td>1</td>\n",
       "      <td>21.0750</td>\n",
       "    </tr>\n",
       "    <tr>\n",
       "      <th>8</th>\n",
       "      <td>1</td>\n",
       "      <td>3</td>\n",
       "      <td>Mrs. Oscar W (Elisabeth Vilhelmina Berg) Johnson</td>\n",
       "      <td>female</td>\n",
       "      <td>27.0</td>\n",
       "      <td>0</td>\n",
       "      <td>2</td>\n",
       "      <td>11.1333</td>\n",
       "    </tr>\n",
       "  </tbody>\n",
       "</table>\n",
       "</div>"
      ],
      "text/plain": [
       "   Survived  Pclass                                              Name     Sex  \\\n",
       "3         1       1       Mrs. Jacques Heath (Lily May Peel) Futrelle  female   \n",
       "4         0       3                           Mr. William Henry Allen    male   \n",
       "5         0       3                                   Mr. James Moran    male   \n",
       "6         0       1                            Mr. Timothy J McCarthy    male   \n",
       "7         0       3                     Master. Gosta Leonard Palsson    male   \n",
       "8         1       3  Mrs. Oscar W (Elisabeth Vilhelmina Berg) Johnson  female   \n",
       "\n",
       "    Age  Siblings/Spouses Aboard  Parents/Children Aboard     Fare  \n",
       "3  35.0                        1                        0  53.1000  \n",
       "4  35.0                        0                        0   8.0500  \n",
       "5  27.0                        0                        0   8.4583  \n",
       "6  54.0                        0                        0  51.8625  \n",
       "7   2.0                        3                        1  21.0750  \n",
       "8  27.0                        0                        2  11.1333  "
      ]
     },
     "execution_count": 10,
     "metadata": {},
     "output_type": "execute_result"
    }
   ],
   "source": [
    "# Select rows 3 to 9 (inclusive)\n",
    "s_titanic = titanic.iloc[3:9,:]\n",
    "s_titanic"
   ]
  },
  {
   "attachments": {},
   "cell_type": "markdown",
   "metadata": {},
   "source": [
    "5. Slice the row from 40 to 63 in reverse order, call it `s_titanic_rev`"
   ]
  },
  {
   "cell_type": "code",
   "execution_count": 11,
   "metadata": {},
   "outputs": [
    {
     "data": {
      "application/vnd.microsoft.datawrangler.viewer.v0+json": {
       "columns": [
        {
         "name": "index",
         "rawType": "int64",
         "type": "integer"
        },
        {
         "name": "Survived",
         "rawType": "int64",
         "type": "integer"
        },
        {
         "name": "Pclass",
         "rawType": "int64",
         "type": "integer"
        },
        {
         "name": "Name",
         "rawType": "object",
         "type": "string"
        },
        {
         "name": "Sex",
         "rawType": "object",
         "type": "string"
        },
        {
         "name": "Age",
         "rawType": "float64",
         "type": "float"
        },
        {
         "name": "Siblings/Spouses Aboard",
         "rawType": "int64",
         "type": "integer"
        },
        {
         "name": "Parents/Children Aboard",
         "rawType": "int64",
         "type": "integer"
        },
        {
         "name": "Fare",
         "rawType": "float64",
         "type": "float"
        }
       ],
       "conversionMethod": "pd.DataFrame",
       "ref": "b7cdbc28-6906-4aae-8a51-326331343252",
       "rows": [
        [
         "63",
         "0",
         "1",
         "Mr. Albert A Stewart",
         "male",
         "64.0",
         "0",
         "0",
         "27.7208"
        ],
        [
         "62",
         "0",
         "3",
         "Master. Harald Skoog",
         "male",
         "4.0",
         "3",
         "2",
         "27.9"
        ],
        [
         "61",
         "0",
         "1",
         "Mr. Henry Birkhardt Harris",
         "male",
         "45.0",
         "1",
         "0",
         "83.475"
        ],
        [
         "60",
         "1",
         "1",
         "Miss. Amelie Icard",
         "female",
         "38.0",
         "0",
         "0",
         "80.0"
        ],
        [
         "59",
         "0",
         "3",
         "Mr. Orsen Sirayanian",
         "male",
         "22.0",
         "0",
         "0",
         "7.2292"
        ],
        [
         "58",
         "0",
         "3",
         "Master. William Frederick Goodwin",
         "male",
         "11.0",
         "5",
         "2",
         "46.9"
        ],
        [
         "57",
         "1",
         "2",
         "Miss. Constance Mirium West",
         "female",
         "5.0",
         "1",
         "2",
         "27.75"
        ],
        [
         "56",
         "0",
         "3",
         "Mr. Mansouer Novel",
         "male",
         "28.5",
         "0",
         "0",
         "7.2292"
        ],
        [
         "55",
         "1",
         "2",
         "Miss. Emily Rugg",
         "female",
         "21.0",
         "0",
         "0",
         "10.5"
        ],
        [
         "54",
         "1",
         "1",
         "Mr. Hugh Woolner",
         "male",
         "46.0",
         "0",
         "0",
         "35.5"
        ],
        [
         "53",
         "0",
         "1",
         "Mr. Engelhart Cornelius Ostby",
         "male",
         "65.0",
         "0",
         "1",
         "61.9792"
        ],
        [
         "52",
         "1",
         "2",
         "Mrs. Lizzie (Elizabeth Anne Wilkinson) Faunthorpe",
         "female",
         "29.0",
         "1",
         "0",
         "26.0"
        ],
        [
         "51",
         "1",
         "1",
         "Mrs. Henry Sleeper (Myna Haxtun) Harper",
         "female",
         "49.0",
         "1",
         "0",
         "76.7292"
        ],
        [
         "50",
         "0",
         "3",
         "Mr. Richard Cater Nosworthy",
         "male",
         "21.0",
         "0",
         "0",
         "7.8"
        ],
        [
         "49",
         "0",
         "3",
         "Master. Juha Niilo Panula",
         "male",
         "7.0",
         "4",
         "1",
         "39.6875"
        ],
        [
         "48",
         "0",
         "3",
         "Mrs. Josef (Josefine Franchi) Arnold-Franchi",
         "female",
         "18.0",
         "1",
         "0",
         "17.8"
        ],
        [
         "47",
         "0",
         "3",
         "Mr. Youssef Samaan",
         "male",
         "16.0",
         "2",
         "0",
         "21.6792"
        ],
        [
         "46",
         "1",
         "3",
         "Miss. Bridget O'Driscoll",
         "female",
         "27.0",
         "0",
         "0",
         "7.75"
        ],
        [
         "45",
         "0",
         "3",
         "Mr. Denis Lennon",
         "male",
         "20.0",
         "1",
         "0",
         "15.5"
        ],
        [
         "44",
         "0",
         "3",
         "Mr. William John Rogers",
         "male",
         "30.0",
         "0",
         "0",
         "8.05"
        ],
        [
         "43",
         "1",
         "3",
         "Miss. Margaret Delia Devaney",
         "female",
         "19.0",
         "0",
         "0",
         "7.8792"
        ],
        [
         "42",
         "1",
         "2",
         "Miss. Simonne Marie Anne Andree Laroche",
         "female",
         "3.0",
         "1",
         "2",
         "41.5792"
        ],
        [
         "41",
         "0",
         "2",
         "Mrs. William John Robert (Dorothy Ann Wonnacott) Turpin",
         "female",
         "27.0",
         "1",
         "0",
         "21.0"
        ],
        [
         "40",
         "0",
         "3",
         "Mrs. Johan (Johanna Persdotter Larsson) Ahlin",
         "female",
         "40.0",
         "1",
         "0",
         "9.475"
        ]
       ],
       "shape": {
        "columns": 8,
        "rows": 24
       }
      },
      "text/html": [
       "<div>\n",
       "<style scoped>\n",
       "    .dataframe tbody tr th:only-of-type {\n",
       "        vertical-align: middle;\n",
       "    }\n",
       "\n",
       "    .dataframe tbody tr th {\n",
       "        vertical-align: top;\n",
       "    }\n",
       "\n",
       "    .dataframe thead th {\n",
       "        text-align: right;\n",
       "    }\n",
       "</style>\n",
       "<table border=\"1\" class=\"dataframe\">\n",
       "  <thead>\n",
       "    <tr style=\"text-align: right;\">\n",
       "      <th></th>\n",
       "      <th>Survived</th>\n",
       "      <th>Pclass</th>\n",
       "      <th>Name</th>\n",
       "      <th>Sex</th>\n",
       "      <th>Age</th>\n",
       "      <th>Siblings/Spouses Aboard</th>\n",
       "      <th>Parents/Children Aboard</th>\n",
       "      <th>Fare</th>\n",
       "    </tr>\n",
       "  </thead>\n",
       "  <tbody>\n",
       "    <tr>\n",
       "      <th>63</th>\n",
       "      <td>0</td>\n",
       "      <td>1</td>\n",
       "      <td>Mr. Albert A Stewart</td>\n",
       "      <td>male</td>\n",
       "      <td>64.0</td>\n",
       "      <td>0</td>\n",
       "      <td>0</td>\n",
       "      <td>27.7208</td>\n",
       "    </tr>\n",
       "    <tr>\n",
       "      <th>62</th>\n",
       "      <td>0</td>\n",
       "      <td>3</td>\n",
       "      <td>Master. Harald Skoog</td>\n",
       "      <td>male</td>\n",
       "      <td>4.0</td>\n",
       "      <td>3</td>\n",
       "      <td>2</td>\n",
       "      <td>27.9000</td>\n",
       "    </tr>\n",
       "    <tr>\n",
       "      <th>61</th>\n",
       "      <td>0</td>\n",
       "      <td>1</td>\n",
       "      <td>Mr. Henry Birkhardt Harris</td>\n",
       "      <td>male</td>\n",
       "      <td>45.0</td>\n",
       "      <td>1</td>\n",
       "      <td>0</td>\n",
       "      <td>83.4750</td>\n",
       "    </tr>\n",
       "    <tr>\n",
       "      <th>60</th>\n",
       "      <td>1</td>\n",
       "      <td>1</td>\n",
       "      <td>Miss. Amelie Icard</td>\n",
       "      <td>female</td>\n",
       "      <td>38.0</td>\n",
       "      <td>0</td>\n",
       "      <td>0</td>\n",
       "      <td>80.0000</td>\n",
       "    </tr>\n",
       "    <tr>\n",
       "      <th>59</th>\n",
       "      <td>0</td>\n",
       "      <td>3</td>\n",
       "      <td>Mr. Orsen Sirayanian</td>\n",
       "      <td>male</td>\n",
       "      <td>22.0</td>\n",
       "      <td>0</td>\n",
       "      <td>0</td>\n",
       "      <td>7.2292</td>\n",
       "    </tr>\n",
       "    <tr>\n",
       "      <th>58</th>\n",
       "      <td>0</td>\n",
       "      <td>3</td>\n",
       "      <td>Master. William Frederick Goodwin</td>\n",
       "      <td>male</td>\n",
       "      <td>11.0</td>\n",
       "      <td>5</td>\n",
       "      <td>2</td>\n",
       "      <td>46.9000</td>\n",
       "    </tr>\n",
       "    <tr>\n",
       "      <th>57</th>\n",
       "      <td>1</td>\n",
       "      <td>2</td>\n",
       "      <td>Miss. Constance Mirium West</td>\n",
       "      <td>female</td>\n",
       "      <td>5.0</td>\n",
       "      <td>1</td>\n",
       "      <td>2</td>\n",
       "      <td>27.7500</td>\n",
       "    </tr>\n",
       "    <tr>\n",
       "      <th>56</th>\n",
       "      <td>0</td>\n",
       "      <td>3</td>\n",
       "      <td>Mr. Mansouer Novel</td>\n",
       "      <td>male</td>\n",
       "      <td>28.5</td>\n",
       "      <td>0</td>\n",
       "      <td>0</td>\n",
       "      <td>7.2292</td>\n",
       "    </tr>\n",
       "    <tr>\n",
       "      <th>55</th>\n",
       "      <td>1</td>\n",
       "      <td>2</td>\n",
       "      <td>Miss. Emily Rugg</td>\n",
       "      <td>female</td>\n",
       "      <td>21.0</td>\n",
       "      <td>0</td>\n",
       "      <td>0</td>\n",
       "      <td>10.5000</td>\n",
       "    </tr>\n",
       "    <tr>\n",
       "      <th>54</th>\n",
       "      <td>1</td>\n",
       "      <td>1</td>\n",
       "      <td>Mr. Hugh Woolner</td>\n",
       "      <td>male</td>\n",
       "      <td>46.0</td>\n",
       "      <td>0</td>\n",
       "      <td>0</td>\n",
       "      <td>35.5000</td>\n",
       "    </tr>\n",
       "    <tr>\n",
       "      <th>53</th>\n",
       "      <td>0</td>\n",
       "      <td>1</td>\n",
       "      <td>Mr. Engelhart Cornelius Ostby</td>\n",
       "      <td>male</td>\n",
       "      <td>65.0</td>\n",
       "      <td>0</td>\n",
       "      <td>1</td>\n",
       "      <td>61.9792</td>\n",
       "    </tr>\n",
       "    <tr>\n",
       "      <th>52</th>\n",
       "      <td>1</td>\n",
       "      <td>2</td>\n",
       "      <td>Mrs. Lizzie (Elizabeth Anne Wilkinson) Faunthorpe</td>\n",
       "      <td>female</td>\n",
       "      <td>29.0</td>\n",
       "      <td>1</td>\n",
       "      <td>0</td>\n",
       "      <td>26.0000</td>\n",
       "    </tr>\n",
       "    <tr>\n",
       "      <th>51</th>\n",
       "      <td>1</td>\n",
       "      <td>1</td>\n",
       "      <td>Mrs. Henry Sleeper (Myna Haxtun) Harper</td>\n",
       "      <td>female</td>\n",
       "      <td>49.0</td>\n",
       "      <td>1</td>\n",
       "      <td>0</td>\n",
       "      <td>76.7292</td>\n",
       "    </tr>\n",
       "    <tr>\n",
       "      <th>50</th>\n",
       "      <td>0</td>\n",
       "      <td>3</td>\n",
       "      <td>Mr. Richard Cater Nosworthy</td>\n",
       "      <td>male</td>\n",
       "      <td>21.0</td>\n",
       "      <td>0</td>\n",
       "      <td>0</td>\n",
       "      <td>7.8000</td>\n",
       "    </tr>\n",
       "    <tr>\n",
       "      <th>49</th>\n",
       "      <td>0</td>\n",
       "      <td>3</td>\n",
       "      <td>Master. Juha Niilo Panula</td>\n",
       "      <td>male</td>\n",
       "      <td>7.0</td>\n",
       "      <td>4</td>\n",
       "      <td>1</td>\n",
       "      <td>39.6875</td>\n",
       "    </tr>\n",
       "    <tr>\n",
       "      <th>48</th>\n",
       "      <td>0</td>\n",
       "      <td>3</td>\n",
       "      <td>Mrs. Josef (Josefine Franchi) Arnold-Franchi</td>\n",
       "      <td>female</td>\n",
       "      <td>18.0</td>\n",
       "      <td>1</td>\n",
       "      <td>0</td>\n",
       "      <td>17.8000</td>\n",
       "    </tr>\n",
       "    <tr>\n",
       "      <th>47</th>\n",
       "      <td>0</td>\n",
       "      <td>3</td>\n",
       "      <td>Mr. Youssef Samaan</td>\n",
       "      <td>male</td>\n",
       "      <td>16.0</td>\n",
       "      <td>2</td>\n",
       "      <td>0</td>\n",
       "      <td>21.6792</td>\n",
       "    </tr>\n",
       "    <tr>\n",
       "      <th>46</th>\n",
       "      <td>1</td>\n",
       "      <td>3</td>\n",
       "      <td>Miss. Bridget O'Driscoll</td>\n",
       "      <td>female</td>\n",
       "      <td>27.0</td>\n",
       "      <td>0</td>\n",
       "      <td>0</td>\n",
       "      <td>7.7500</td>\n",
       "    </tr>\n",
       "    <tr>\n",
       "      <th>45</th>\n",
       "      <td>0</td>\n",
       "      <td>3</td>\n",
       "      <td>Mr. Denis Lennon</td>\n",
       "      <td>male</td>\n",
       "      <td>20.0</td>\n",
       "      <td>1</td>\n",
       "      <td>0</td>\n",
       "      <td>15.5000</td>\n",
       "    </tr>\n",
       "    <tr>\n",
       "      <th>44</th>\n",
       "      <td>0</td>\n",
       "      <td>3</td>\n",
       "      <td>Mr. William John Rogers</td>\n",
       "      <td>male</td>\n",
       "      <td>30.0</td>\n",
       "      <td>0</td>\n",
       "      <td>0</td>\n",
       "      <td>8.0500</td>\n",
       "    </tr>\n",
       "    <tr>\n",
       "      <th>43</th>\n",
       "      <td>1</td>\n",
       "      <td>3</td>\n",
       "      <td>Miss. Margaret Delia Devaney</td>\n",
       "      <td>female</td>\n",
       "      <td>19.0</td>\n",
       "      <td>0</td>\n",
       "      <td>0</td>\n",
       "      <td>7.8792</td>\n",
       "    </tr>\n",
       "    <tr>\n",
       "      <th>42</th>\n",
       "      <td>1</td>\n",
       "      <td>2</td>\n",
       "      <td>Miss. Simonne Marie Anne Andree Laroche</td>\n",
       "      <td>female</td>\n",
       "      <td>3.0</td>\n",
       "      <td>1</td>\n",
       "      <td>2</td>\n",
       "      <td>41.5792</td>\n",
       "    </tr>\n",
       "    <tr>\n",
       "      <th>41</th>\n",
       "      <td>0</td>\n",
       "      <td>2</td>\n",
       "      <td>Mrs. William John Robert (Dorothy Ann Wonnacot...</td>\n",
       "      <td>female</td>\n",
       "      <td>27.0</td>\n",
       "      <td>1</td>\n",
       "      <td>0</td>\n",
       "      <td>21.0000</td>\n",
       "    </tr>\n",
       "    <tr>\n",
       "      <th>40</th>\n",
       "      <td>0</td>\n",
       "      <td>3</td>\n",
       "      <td>Mrs. Johan (Johanna Persdotter Larsson) Ahlin</td>\n",
       "      <td>female</td>\n",
       "      <td>40.0</td>\n",
       "      <td>1</td>\n",
       "      <td>0</td>\n",
       "      <td>9.4750</td>\n",
       "    </tr>\n",
       "  </tbody>\n",
       "</table>\n",
       "</div>"
      ],
      "text/plain": [
       "    Survived  Pclass                                               Name  \\\n",
       "63         0       1                               Mr. Albert A Stewart   \n",
       "62         0       3                               Master. Harald Skoog   \n",
       "61         0       1                         Mr. Henry Birkhardt Harris   \n",
       "60         1       1                                 Miss. Amelie Icard   \n",
       "59         0       3                               Mr. Orsen Sirayanian   \n",
       "58         0       3                  Master. William Frederick Goodwin   \n",
       "57         1       2                        Miss. Constance Mirium West   \n",
       "56         0       3                                 Mr. Mansouer Novel   \n",
       "55         1       2                                   Miss. Emily Rugg   \n",
       "54         1       1                                   Mr. Hugh Woolner   \n",
       "53         0       1                      Mr. Engelhart Cornelius Ostby   \n",
       "52         1       2  Mrs. Lizzie (Elizabeth Anne Wilkinson) Faunthorpe   \n",
       "51         1       1            Mrs. Henry Sleeper (Myna Haxtun) Harper   \n",
       "50         0       3                        Mr. Richard Cater Nosworthy   \n",
       "49         0       3                          Master. Juha Niilo Panula   \n",
       "48         0       3       Mrs. Josef (Josefine Franchi) Arnold-Franchi   \n",
       "47         0       3                                 Mr. Youssef Samaan   \n",
       "46         1       3                           Miss. Bridget O'Driscoll   \n",
       "45         0       3                                   Mr. Denis Lennon   \n",
       "44         0       3                            Mr. William John Rogers   \n",
       "43         1       3                       Miss. Margaret Delia Devaney   \n",
       "42         1       2            Miss. Simonne Marie Anne Andree Laroche   \n",
       "41         0       2  Mrs. William John Robert (Dorothy Ann Wonnacot...   \n",
       "40         0       3      Mrs. Johan (Johanna Persdotter Larsson) Ahlin   \n",
       "\n",
       "       Sex   Age  Siblings/Spouses Aboard  Parents/Children Aboard     Fare  \n",
       "63    male  64.0                        0                        0  27.7208  \n",
       "62    male   4.0                        3                        2  27.9000  \n",
       "61    male  45.0                        1                        0  83.4750  \n",
       "60  female  38.0                        0                        0  80.0000  \n",
       "59    male  22.0                        0                        0   7.2292  \n",
       "58    male  11.0                        5                        2  46.9000  \n",
       "57  female   5.0                        1                        2  27.7500  \n",
       "56    male  28.5                        0                        0   7.2292  \n",
       "55  female  21.0                        0                        0  10.5000  \n",
       "54    male  46.0                        0                        0  35.5000  \n",
       "53    male  65.0                        0                        1  61.9792  \n",
       "52  female  29.0                        1                        0  26.0000  \n",
       "51  female  49.0                        1                        0  76.7292  \n",
       "50    male  21.0                        0                        0   7.8000  \n",
       "49    male   7.0                        4                        1  39.6875  \n",
       "48  female  18.0                        1                        0  17.8000  \n",
       "47    male  16.0                        2                        0  21.6792  \n",
       "46  female  27.0                        0                        0   7.7500  \n",
       "45    male  20.0                        1                        0  15.5000  \n",
       "44    male  30.0                        0                        0   8.0500  \n",
       "43  female  19.0                        0                        0   7.8792  \n",
       "42  female   3.0                        1                        2  41.5792  \n",
       "41  female  27.0                        1                        0  21.0000  \n",
       "40  female  40.0                        1                        0   9.4750  "
      ]
     },
     "execution_count": 11,
     "metadata": {},
     "output_type": "execute_result"
    }
   ],
   "source": [
    "# Slice rows 40 to 63 in reverse order\n",
    "s_titanic_rev = titanic.iloc[40:64][::-1]  # Using [::-1] to reverse the order\n",
    "\n",
    "s_titanic_rev"
   ]
  },
  {
   "attachments": {},
   "cell_type": "markdown",
   "metadata": {},
   "source": [
    "6. Slice the columns from the starting column to `'parch'`, call it `left_columns`"
   ]
  },
  {
   "cell_type": "code",
   "execution_count": 12,
   "metadata": {},
   "outputs": [
    {
     "name": "stdout",
     "output_type": "stream",
     "text": [
      "     Survived  Pclass                                               Name\n",
      "0           0       3                             Mr. Owen Harris Braund\n",
      "1           1       1  Mrs. John Bradley (Florence Briggs Thayer) Cum...\n",
      "2           1       3                              Miss. Laina Heikkinen\n",
      "3           1       1        Mrs. Jacques Heath (Lily May Peel) Futrelle\n",
      "4           0       3                            Mr. William Henry Allen\n",
      "..        ...     ...                                                ...\n",
      "882         0       2                               Rev. Juozas Montvila\n",
      "883         1       1                        Miss. Margaret Edith Graham\n",
      "884         0       3                     Miss. Catherine Helen Johnston\n",
      "885         1       1                               Mr. Karl Howell Behr\n",
      "886         0       3                                 Mr. Patrick Dooley\n",
      "\n",
      "[887 rows x 3 columns]\n"
     ]
    }
   ],
   "source": [
    "left_columns = titanic.loc[:, :'Name']  # Select all columns up to 'parch'\n",
    "\n",
    "print(left_columns)"
   ]
  },
  {
   "cell_type": "code",
   "execution_count": null,
   "metadata": {},
   "outputs": [],
   "source": []
  },
  {
   "attachments": {},
   "cell_type": "markdown",
   "metadata": {},
   "source": [
    "7. Slice the columns from `'name'` to `'age'`, call it `middle_columns`"
   ]
  },
  {
   "cell_type": "code",
   "execution_count": 13,
   "metadata": {},
   "outputs": [
    {
     "name": "stdout",
     "output_type": "stream",
     "text": [
      "        Sex   Age\n",
      "0      male  22.0\n",
      "1    female  38.0\n",
      "2    female  26.0\n",
      "3    female  35.0\n",
      "4      male  35.0\n",
      "..      ...   ...\n",
      "882    male  27.0\n",
      "883  female  19.0\n",
      "884  female   7.0\n",
      "885    male  26.0\n",
      "886    male  32.0\n",
      "\n",
      "[887 rows x 2 columns]\n"
     ]
    }
   ],
   "source": [
    "middle_columns = titanic.loc[:, 'Sex':'Age']  # Select columns between 'name' and 'age' (inclusive)\n",
    "\n",
    "print(middle_columns)"
   ]
  },
  {
   "attachments": {},
   "cell_type": "markdown",
   "metadata": {},
   "source": [
    "8. Slice the columns from `'ticket'` to the end, call it `right_columns`"
   ]
  },
  {
   "cell_type": "code",
   "execution_count": 14,
   "metadata": {},
   "outputs": [
    {
     "name": "stdout",
     "output_type": "stream",
     "text": [
      "        Fare\n",
      "0     7.2500\n",
      "1    71.2833\n",
      "2     7.9250\n",
      "3    53.1000\n",
      "4     8.0500\n",
      "..       ...\n",
      "882  13.0000\n",
      "883  30.0000\n",
      "884  23.4500\n",
      "885  30.0000\n",
      "886   7.7500\n",
      "\n",
      "[887 rows x 1 columns]\n"
     ]
    }
   ],
   "source": [
    "rigth_columns = titanic.loc[:, 'Fare':]  # Select columns between 'name' and 'age' (inclusive)\n",
    "\n",
    "print(rigth_columns)"
   ]
  },
  {
   "attachments": {},
   "cell_type": "markdown",
   "metadata": {},
   "source": [
    "9. What is the name of the oldest person who died in the Titanic? Was he or she travelling alone or had any family travelling with them?  \n",
    "\n"
   ]
  },
  {
   "cell_type": "code",
   "execution_count": 15,
   "metadata": {},
   "outputs": [
    {
     "ename": "KeyError",
     "evalue": "627",
     "output_type": "error",
     "traceback": [
      "\u001b[31m---------------------------------------------------------------------------\u001b[39m",
      "\u001b[31mKeyError\u001b[39m                                  Traceback (most recent call last)",
      "\u001b[36mFile \u001b[39m\u001b[32mc:\\Users\\aprai\\AppData\\Local\\Programs\\Python\\Python311\\Lib\\site-packages\\pandas\\core\\indexes\\base.py:3805\u001b[39m, in \u001b[36mIndex.get_loc\u001b[39m\u001b[34m(self, key)\u001b[39m\n\u001b[32m   3804\u001b[39m \u001b[38;5;28;01mtry\u001b[39;00m:\n\u001b[32m-> \u001b[39m\u001b[32m3805\u001b[39m     \u001b[38;5;28;01mreturn\u001b[39;00m \u001b[38;5;28;43mself\u001b[39;49m\u001b[43m.\u001b[49m\u001b[43m_engine\u001b[49m\u001b[43m.\u001b[49m\u001b[43mget_loc\u001b[49m\u001b[43m(\u001b[49m\u001b[43mcasted_key\u001b[49m\u001b[43m)\u001b[49m\n\u001b[32m   3806\u001b[39m \u001b[38;5;28;01mexcept\u001b[39;00m \u001b[38;5;167;01mKeyError\u001b[39;00m \u001b[38;5;28;01mas\u001b[39;00m err:\n",
      "\u001b[36mFile \u001b[39m\u001b[32mindex.pyx:167\u001b[39m, in \u001b[36mpandas._libs.index.IndexEngine.get_loc\u001b[39m\u001b[34m()\u001b[39m\n",
      "\u001b[36mFile \u001b[39m\u001b[32mindex.pyx:196\u001b[39m, in \u001b[36mpandas._libs.index.IndexEngine.get_loc\u001b[39m\u001b[34m()\u001b[39m\n",
      "\u001b[36mFile \u001b[39m\u001b[32mpandas\\\\_libs\\\\hashtable_class_helper.pxi:2606\u001b[39m, in \u001b[36mpandas._libs.hashtable.Int64HashTable.get_item\u001b[39m\u001b[34m()\u001b[39m\n",
      "\u001b[36mFile \u001b[39m\u001b[32mpandas\\\\_libs\\\\hashtable_class_helper.pxi:2630\u001b[39m, in \u001b[36mpandas._libs.hashtable.Int64HashTable.get_item\u001b[39m\u001b[34m()\u001b[39m\n",
      "\u001b[31mKeyError\u001b[39m: 627",
      "\nThe above exception was the direct cause of the following exception:\n",
      "\u001b[31mKeyError\u001b[39m                                  Traceback (most recent call last)",
      "\u001b[36mCell\u001b[39m\u001b[36m \u001b[39m\u001b[32mIn[15]\u001b[39m\u001b[32m, line 1\u001b[39m\n\u001b[32m----> \u001b[39m\u001b[32m1\u001b[39m oldest_victim = \u001b[43mtitanic\u001b[49m\u001b[43m[\u001b[49m\u001b[43mtitanic\u001b[49m\u001b[43m[\u001b[49m\u001b[33;43m'\u001b[39;49m\u001b[33;43mSurvived\u001b[39;49m\u001b[33;43m'\u001b[39;49m\u001b[43m]\u001b[49m\u001b[43m \u001b[49m\u001b[43m==\u001b[49m\u001b[43m \u001b[49m\u001b[32;43m0\u001b[39;49m\u001b[43m]\u001b[49m\u001b[43m.\u001b[49m\u001b[43mloc\u001b[49m\u001b[43m[\u001b[49m\u001b[43mtitanic\u001b[49m\u001b[43m[\u001b[49m\u001b[33;43m'\u001b[39;49m\u001b[33;43mAge\u001b[39;49m\u001b[33;43m'\u001b[39;49m\u001b[43m]\u001b[49m\u001b[43m.\u001b[49m\u001b[43midxmax\u001b[49m\u001b[43m(\u001b[49m\u001b[43m)\u001b[49m\u001b[43m]\u001b[49m\n\u001b[32m      2\u001b[39m \u001b[38;5;28mprint\u001b[39m(oldest_victim[\u001b[33m'\u001b[39m\u001b[33mName\u001b[39m\u001b[33m'\u001b[39m])\n\u001b[32m      3\u001b[39m \u001b[38;5;28mprint\u001b[39m(oldest_victim[\u001b[33m'\u001b[39m\u001b[33mSiblings/Spouses Aboard\u001b[39m\u001b[33m'\u001b[39m])\n",
      "\u001b[36mFile \u001b[39m\u001b[32mc:\\Users\\aprai\\AppData\\Local\\Programs\\Python\\Python311\\Lib\\site-packages\\pandas\\core\\indexing.py:1191\u001b[39m, in \u001b[36m_LocationIndexer.__getitem__\u001b[39m\u001b[34m(self, key)\u001b[39m\n\u001b[32m   1189\u001b[39m maybe_callable = com.apply_if_callable(key, \u001b[38;5;28mself\u001b[39m.obj)\n\u001b[32m   1190\u001b[39m maybe_callable = \u001b[38;5;28mself\u001b[39m._check_deprecated_callable_usage(key, maybe_callable)\n\u001b[32m-> \u001b[39m\u001b[32m1191\u001b[39m \u001b[38;5;28;01mreturn\u001b[39;00m \u001b[38;5;28;43mself\u001b[39;49m\u001b[43m.\u001b[49m\u001b[43m_getitem_axis\u001b[49m\u001b[43m(\u001b[49m\u001b[43mmaybe_callable\u001b[49m\u001b[43m,\u001b[49m\u001b[43m \u001b[49m\u001b[43maxis\u001b[49m\u001b[43m=\u001b[49m\u001b[43maxis\u001b[49m\u001b[43m)\u001b[49m\n",
      "\u001b[36mFile \u001b[39m\u001b[32mc:\\Users\\aprai\\AppData\\Local\\Programs\\Python\\Python311\\Lib\\site-packages\\pandas\\core\\indexing.py:1431\u001b[39m, in \u001b[36m_LocIndexer._getitem_axis\u001b[39m\u001b[34m(self, key, axis)\u001b[39m\n\u001b[32m   1429\u001b[39m \u001b[38;5;66;03m# fall thru to straight lookup\u001b[39;00m\n\u001b[32m   1430\u001b[39m \u001b[38;5;28mself\u001b[39m._validate_key(key, axis)\n\u001b[32m-> \u001b[39m\u001b[32m1431\u001b[39m \u001b[38;5;28;01mreturn\u001b[39;00m \u001b[38;5;28;43mself\u001b[39;49m\u001b[43m.\u001b[49m\u001b[43m_get_label\u001b[49m\u001b[43m(\u001b[49m\u001b[43mkey\u001b[49m\u001b[43m,\u001b[49m\u001b[43m \u001b[49m\u001b[43maxis\u001b[49m\u001b[43m=\u001b[49m\u001b[43maxis\u001b[49m\u001b[43m)\u001b[49m\n",
      "\u001b[36mFile \u001b[39m\u001b[32mc:\\Users\\aprai\\AppData\\Local\\Programs\\Python\\Python311\\Lib\\site-packages\\pandas\\core\\indexing.py:1381\u001b[39m, in \u001b[36m_LocIndexer._get_label\u001b[39m\u001b[34m(self, label, axis)\u001b[39m\n\u001b[32m   1379\u001b[39m \u001b[38;5;28;01mdef\u001b[39;00m\u001b[38;5;250m \u001b[39m\u001b[34m_get_label\u001b[39m(\u001b[38;5;28mself\u001b[39m, label, axis: AxisInt):\n\u001b[32m   1380\u001b[39m     \u001b[38;5;66;03m# GH#5567 this will fail if the label is not present in the axis.\u001b[39;00m\n\u001b[32m-> \u001b[39m\u001b[32m1381\u001b[39m     \u001b[38;5;28;01mreturn\u001b[39;00m \u001b[38;5;28;43mself\u001b[39;49m\u001b[43m.\u001b[49m\u001b[43mobj\u001b[49m\u001b[43m.\u001b[49m\u001b[43mxs\u001b[49m\u001b[43m(\u001b[49m\u001b[43mlabel\u001b[49m\u001b[43m,\u001b[49m\u001b[43m \u001b[49m\u001b[43maxis\u001b[49m\u001b[43m=\u001b[49m\u001b[43maxis\u001b[49m\u001b[43m)\u001b[49m\n",
      "\u001b[36mFile \u001b[39m\u001b[32mc:\\Users\\aprai\\AppData\\Local\\Programs\\Python\\Python311\\Lib\\site-packages\\pandas\\core\\generic.py:4301\u001b[39m, in \u001b[36mNDFrame.xs\u001b[39m\u001b[34m(self, key, axis, level, drop_level)\u001b[39m\n\u001b[32m   4299\u001b[39m             new_index = index[loc]\n\u001b[32m   4300\u001b[39m \u001b[38;5;28;01melse\u001b[39;00m:\n\u001b[32m-> \u001b[39m\u001b[32m4301\u001b[39m     loc = \u001b[43mindex\u001b[49m\u001b[43m.\u001b[49m\u001b[43mget_loc\u001b[49m\u001b[43m(\u001b[49m\u001b[43mkey\u001b[49m\u001b[43m)\u001b[49m\n\u001b[32m   4303\u001b[39m     \u001b[38;5;28;01mif\u001b[39;00m \u001b[38;5;28misinstance\u001b[39m(loc, np.ndarray):\n\u001b[32m   4304\u001b[39m         \u001b[38;5;28;01mif\u001b[39;00m loc.dtype == np.bool_:\n",
      "\u001b[36mFile \u001b[39m\u001b[32mc:\\Users\\aprai\\AppData\\Local\\Programs\\Python\\Python311\\Lib\\site-packages\\pandas\\core\\indexes\\base.py:3812\u001b[39m, in \u001b[36mIndex.get_loc\u001b[39m\u001b[34m(self, key)\u001b[39m\n\u001b[32m   3807\u001b[39m     \u001b[38;5;28;01mif\u001b[39;00m \u001b[38;5;28misinstance\u001b[39m(casted_key, \u001b[38;5;28mslice\u001b[39m) \u001b[38;5;129;01mor\u001b[39;00m (\n\u001b[32m   3808\u001b[39m         \u001b[38;5;28misinstance\u001b[39m(casted_key, abc.Iterable)\n\u001b[32m   3809\u001b[39m         \u001b[38;5;129;01mand\u001b[39;00m \u001b[38;5;28many\u001b[39m(\u001b[38;5;28misinstance\u001b[39m(x, \u001b[38;5;28mslice\u001b[39m) \u001b[38;5;28;01mfor\u001b[39;00m x \u001b[38;5;129;01min\u001b[39;00m casted_key)\n\u001b[32m   3810\u001b[39m     ):\n\u001b[32m   3811\u001b[39m         \u001b[38;5;28;01mraise\u001b[39;00m InvalidIndexError(key)\n\u001b[32m-> \u001b[39m\u001b[32m3812\u001b[39m     \u001b[38;5;28;01mraise\u001b[39;00m \u001b[38;5;167;01mKeyError\u001b[39;00m(key) \u001b[38;5;28;01mfrom\u001b[39;00m\u001b[38;5;250m \u001b[39m\u001b[34;01merr\u001b[39;00m\n\u001b[32m   3813\u001b[39m \u001b[38;5;28;01mexcept\u001b[39;00m \u001b[38;5;167;01mTypeError\u001b[39;00m:\n\u001b[32m   3814\u001b[39m     \u001b[38;5;66;03m# If we have a listlike key, _check_indexing_error will raise\u001b[39;00m\n\u001b[32m   3815\u001b[39m     \u001b[38;5;66;03m#  InvalidIndexError. Otherwise we fall through and re-raise\u001b[39;00m\n\u001b[32m   3816\u001b[39m     \u001b[38;5;66;03m#  the TypeError.\u001b[39;00m\n\u001b[32m   3817\u001b[39m     \u001b[38;5;28mself\u001b[39m._check_indexing_error(key)\n",
      "\u001b[31mKeyError\u001b[39m: 627"
     ]
    }
   ],
   "source": [
    "oldest_victim = titanic[titanic['Survived'] == 0].loc[titanic['Age'].idxmax()]\n",
    "print(oldest_victim['Name'])\n",
    "print(oldest_victim['Siblings/Spouses Aboard'])"
   ]
  },
  {
   "attachments": {},
   "cell_type": "markdown",
   "metadata": {},
   "source": [
    "In order to give an answer to the second question you should find out which columns give you that info. Usually part of your job as a Data Scientist will be get to know the dataset which you are working with. In this case the columns which give you that info are the following: \n",
    "        - 'sibsp' Number of Siblings/Spouses Aboard\n",
    "        - 'parch' Number of Parents/Children Aboard"
   ]
  },
  {
   "cell_type": "code",
   "execution_count": null,
   "metadata": {},
   "outputs": [],
   "source": []
  },
  {
   "attachments": {},
   "cell_type": "markdown",
   "metadata": {},
   "source": [
    "10. Create the list of 5 random numbers of rows from 0 to the lenght of the dataframe, call it `rows`\n",
    "\n",
    "ex. `rows = [3,7,99,52,48]` use `random` library\n",
    "\n"
   ]
  },
  {
   "cell_type": "code",
   "execution_count": null,
   "metadata": {},
   "outputs": [
    {
     "ename": "NameError",
     "evalue": "name 'random' is not defined",
     "output_type": "error",
     "traceback": [
      "\u001b[31m---------------------------------------------------------------------------\u001b[39m",
      "\u001b[31mNameError\u001b[39m                                 Traceback (most recent call last)",
      "\u001b[36mCell\u001b[39m\u001b[36m \u001b[39m\u001b[32mIn[52]\u001b[39m\u001b[32m, line 1\u001b[39m\n\u001b[32m----> \u001b[39m\u001b[32m1\u001b[39m rows = \u001b[43mrandom\u001b[49m.sample(\u001b[38;5;28mrange\u001b[39m(\u001b[38;5;28mlen\u001b[39m(titanic)), \u001b[32m5\u001b[39m)\n\u001b[32m      2\u001b[39m \u001b[38;5;28mprint\u001b[39m(rows)\n",
      "\u001b[31mNameError\u001b[39m: name 'random' is not defined"
     ]
    }
   ],
   "source": [
    "rows = random.sample(range(len(titanic)), 5)\n",
    "print(rows)"
   ]
  },
  {
   "attachments": {},
   "cell_type": "markdown",
   "metadata": {},
   "source": [
    "This list of numbers are random, could be different.\n"
   ]
  },
  {
   "cell_type": "code",
   "execution_count": null,
   "metadata": {},
   "outputs": [],
   "source": []
  },
  {
   "attachments": {},
   "cell_type": "markdown",
   "metadata": {},
   "source": [
    "11. Create the list of three column labels, call it `cols`\n"
   ]
  },
  {
   "cell_type": "code",
   "execution_count": null,
   "metadata": {},
   "outputs": [
    {
     "name": "stdout",
     "output_type": "stream",
     "text": [
      "['Name', 'Age', 'Survived']\n"
     ]
    }
   ],
   "source": [
    "cols = ['Name', 'Age', 'Survived']\n",
    "print(cols)"
   ]
  },
  {
   "attachments": {},
   "cell_type": "markdown",
   "metadata": {},
   "source": [
    "12. Use both lists `rows` and `cols` to create a new dataframe"
   ]
  },
  {
   "cell_type": "code",
   "execution_count": 16,
   "metadata": {},
   "outputs": [
    {
     "ename": "NameError",
     "evalue": "name 'rows' is not defined",
     "output_type": "error",
     "traceback": [
      "\u001b[31m---------------------------------------------------------------------------\u001b[39m",
      "\u001b[31mNameError\u001b[39m                                 Traceback (most recent call last)",
      "\u001b[36mCell\u001b[39m\u001b[36m \u001b[39m\u001b[32mIn[16]\u001b[39m\u001b[32m, line 1\u001b[39m\n\u001b[32m----> \u001b[39m\u001b[32m1\u001b[39m titanic.loc[\u001b[43mrows\u001b[49m, cols]\n",
      "\u001b[31mNameError\u001b[39m: name 'rows' is not defined"
     ]
    }
   ],
   "source": [
    "titanic.loc[rows, cols]"
   ]
  },
  {
   "attachments": {},
   "cell_type": "markdown",
   "metadata": {},
   "source": [
    "13. Create a boolean array with the condition of being a woman or a man, using the `sex` column, where **female** is True. Call it `array_fe`"
   ]
  },
  {
   "cell_type": "code",
   "execution_count": 17,
   "metadata": {},
   "outputs": [
    {
     "data": {
      "text/plain": [
       "0      False\n",
       "1       True\n",
       "2       True\n",
       "3       True\n",
       "4      False\n",
       "       ...  \n",
       "882    False\n",
       "883     True\n",
       "884     True\n",
       "885    False\n",
       "886    False\n",
       "Name: Sex, Length: 887, dtype: bool"
      ]
     },
     "execution_count": 17,
     "metadata": {},
     "output_type": "execute_result"
    }
   ],
   "source": [
    "array_fe = titanic['Sex'] == 'female'\n",
    "array_fe"
   ]
  },
  {
   "attachments": {},
   "cell_type": "markdown",
   "metadata": {},
   "source": [
    "14. Rename the column `\"sex\"` to `\"gender\"` and filter the `titanic` dataframe with the boolean array, call it `woman_titanic`"
   ]
  },
  {
   "cell_type": "code",
   "execution_count": 18,
   "metadata": {},
   "outputs": [
    {
     "data": {
      "application/vnd.microsoft.datawrangler.viewer.v0+json": {
       "columns": [
        {
         "name": "index",
         "rawType": "int64",
         "type": "integer"
        },
        {
         "name": "Survived",
         "rawType": "int64",
         "type": "integer"
        },
        {
         "name": "Pclass",
         "rawType": "int64",
         "type": "integer"
        },
        {
         "name": "Name",
         "rawType": "object",
         "type": "string"
        },
        {
         "name": "Gender",
         "rawType": "object",
         "type": "string"
        },
        {
         "name": "Age",
         "rawType": "float64",
         "type": "float"
        },
        {
         "name": "Siblings/Spouses Aboard",
         "rawType": "int64",
         "type": "integer"
        },
        {
         "name": "Parents/Children Aboard",
         "rawType": "int64",
         "type": "integer"
        },
        {
         "name": "Fare",
         "rawType": "float64",
         "type": "float"
        }
       ],
       "conversionMethod": "pd.DataFrame",
       "ref": "517d5960-be52-46b4-9375-1d66679a54c6",
       "rows": [
        [
         "1",
         "1",
         "1",
         "Mrs. John Bradley (Florence Briggs Thayer) Cumings",
         "female",
         "38.0",
         "1",
         "0",
         "71.2833"
        ],
        [
         "2",
         "1",
         "3",
         "Miss. Laina Heikkinen",
         "female",
         "26.0",
         "0",
         "0",
         "7.925"
        ],
        [
         "3",
         "1",
         "1",
         "Mrs. Jacques Heath (Lily May Peel) Futrelle",
         "female",
         "35.0",
         "1",
         "0",
         "53.1"
        ],
        [
         "8",
         "1",
         "3",
         "Mrs. Oscar W (Elisabeth Vilhelmina Berg) Johnson",
         "female",
         "27.0",
         "0",
         "2",
         "11.1333"
        ],
        [
         "9",
         "1",
         "2",
         "Mrs. Nicholas (Adele Achem) Nasser",
         "female",
         "14.0",
         "1",
         "0",
         "30.0708"
        ],
        [
         "10",
         "1",
         "3",
         "Miss. Marguerite Rut Sandstrom",
         "female",
         "4.0",
         "1",
         "1",
         "16.7"
        ],
        [
         "11",
         "1",
         "1",
         "Miss. Elizabeth Bonnell",
         "female",
         "58.0",
         "0",
         "0",
         "26.55"
        ],
        [
         "14",
         "0",
         "3",
         "Miss. Hulda Amanda Adolfina Vestrom",
         "female",
         "14.0",
         "0",
         "0",
         "7.8542"
        ],
        [
         "15",
         "1",
         "2",
         "Mrs. (Mary D Kingcome) Hewlett",
         "female",
         "55.0",
         "0",
         "0",
         "16.0"
        ],
        [
         "18",
         "0",
         "3",
         "Mrs. Julius (Emelia Maria Vandemoortele) Vander Planke",
         "female",
         "31.0",
         "1",
         "0",
         "18.0"
        ],
        [
         "19",
         "1",
         "3",
         "Mrs. Fatima Masselmani",
         "female",
         "22.0",
         "0",
         "0",
         "7.225"
        ],
        [
         "22",
         "1",
         "3",
         "Miss. Anna McGowan",
         "female",
         "15.0",
         "0",
         "0",
         "8.0292"
        ],
        [
         "24",
         "0",
         "3",
         "Miss. Torborg Danira Palsson",
         "female",
         "8.0",
         "3",
         "1",
         "21.075"
        ],
        [
         "25",
         "1",
         "3",
         "Mrs. Carl Oscar (Selma Augusta Emilia Johansson) Asplund",
         "female",
         "38.0",
         "1",
         "5",
         "31.3875"
        ],
        [
         "28",
         "1",
         "3",
         "Miss. Ellen O'Dwyer",
         "female",
         "24.0",
         "0",
         "0",
         "7.8792"
        ],
        [
         "31",
         "1",
         "1",
         "Mrs. William Augustus (Marie Eugenie) Spencer",
         "female",
         "48.0",
         "1",
         "0",
         "146.5208"
        ],
        [
         "32",
         "1",
         "3",
         "Miss. Mary Agatha Glynn",
         "female",
         "18.0",
         "0",
         "0",
         "7.75"
        ],
        [
         "38",
         "0",
         "3",
         "Miss. Augusta Maria Vander Planke",
         "female",
         "18.0",
         "2",
         "0",
         "18.0"
        ],
        [
         "39",
         "1",
         "3",
         "Miss. Jamila Nicola-Yarred",
         "female",
         "14.0",
         "1",
         "0",
         "11.2417"
        ],
        [
         "40",
         "0",
         "3",
         "Mrs. Johan (Johanna Persdotter Larsson) Ahlin",
         "female",
         "40.0",
         "1",
         "0",
         "9.475"
        ],
        [
         "41",
         "0",
         "2",
         "Mrs. William John Robert (Dorothy Ann Wonnacott) Turpin",
         "female",
         "27.0",
         "1",
         "0",
         "21.0"
        ],
        [
         "42",
         "1",
         "2",
         "Miss. Simonne Marie Anne Andree Laroche",
         "female",
         "3.0",
         "1",
         "2",
         "41.5792"
        ],
        [
         "43",
         "1",
         "3",
         "Miss. Margaret Delia Devaney",
         "female",
         "19.0",
         "0",
         "0",
         "7.8792"
        ],
        [
         "46",
         "1",
         "3",
         "Miss. Bridget O'Driscoll",
         "female",
         "27.0",
         "0",
         "0",
         "7.75"
        ],
        [
         "48",
         "0",
         "3",
         "Mrs. Josef (Josefine Franchi) Arnold-Franchi",
         "female",
         "18.0",
         "1",
         "0",
         "17.8"
        ],
        [
         "51",
         "1",
         "1",
         "Mrs. Henry Sleeper (Myna Haxtun) Harper",
         "female",
         "49.0",
         "1",
         "0",
         "76.7292"
        ],
        [
         "52",
         "1",
         "2",
         "Mrs. Lizzie (Elizabeth Anne Wilkinson) Faunthorpe",
         "female",
         "29.0",
         "1",
         "0",
         "26.0"
        ],
        [
         "55",
         "1",
         "2",
         "Miss. Emily Rugg",
         "female",
         "21.0",
         "0",
         "0",
         "10.5"
        ],
        [
         "57",
         "1",
         "2",
         "Miss. Constance Mirium West",
         "female",
         "5.0",
         "1",
         "2",
         "27.75"
        ],
        [
         "60",
         "1",
         "1",
         "Miss. Amelie Icard",
         "female",
         "38.0",
         "0",
         "0",
         "80.0"
        ],
        [
         "65",
         "1",
         "2",
         "Mrs. (Elizabeth Ramell) Nye",
         "female",
         "29.0",
         "0",
         "0",
         "10.5"
        ],
        [
         "67",
         "1",
         "3",
         "Miss. Erna Alexandra Andersson",
         "female",
         "17.0",
         "4",
         "2",
         "7.925"
        ],
        [
         "70",
         "0",
         "3",
         "Miss. Lillian Amy Goodwin",
         "female",
         "16.0",
         "5",
         "2",
         "46.9"
        ],
        [
         "78",
         "1",
         "3",
         "Miss. Elizabeth Dowdell",
         "female",
         "30.0",
         "0",
         "0",
         "12.475"
        ],
        [
         "81",
         "1",
         "3",
         "Miss. Brigdet Delia McDermott",
         "female",
         "31.0",
         "0",
         "0",
         "7.7875"
        ],
        [
         "83",
         "1",
         "2",
         "Miss. Bertha Ilett",
         "female",
         "17.0",
         "0",
         "0",
         "10.5"
        ],
        [
         "84",
         "1",
         "3",
         "Mrs. Karl Alfred (Maria Mathilda Gustafsson) Backstrom",
         "female",
         "33.0",
         "3",
         "0",
         "15.85"
        ],
        [
         "87",
         "1",
         "1",
         "Miss. Mabel Helen Fortune",
         "female",
         "23.0",
         "3",
         "2",
         "263.0"
        ],
        [
         "97",
         "1",
         "2",
         "Mrs. John T (Ada Julia Bone) Doling",
         "female",
         "34.0",
         "0",
         "1",
         "23.0"
        ],
        [
         "99",
         "0",
         "3",
         "Miss. Matilda Petranec",
         "female",
         "28.0",
         "0",
         "0",
         "7.8958"
        ],
        [
         "105",
         "1",
         "3",
         "Miss. Anna Kristine Salkjelsvik",
         "female",
         "21.0",
         "0",
         "0",
         "7.65"
        ],
        [
         "108",
         "1",
         "3",
         "Miss. Bertha Moran",
         "female",
         "28.0",
         "1",
         "0",
         "24.15"
        ],
        [
         "110",
         "0",
         "3",
         "Miss. Hileni Zabour",
         "female",
         "14.5",
         "1",
         "0",
         "14.4542"
        ],
        [
         "112",
         "0",
         "3",
         "Miss. Katriina Jussila",
         "female",
         "20.0",
         "1",
         "0",
         "9.825"
        ],
        [
         "113",
         "0",
         "3",
         "Miss. Malake Attalah",
         "female",
         "17.0",
         "0",
         "0",
         "14.4583"
        ],
        [
         "118",
         "0",
         "3",
         "Miss. Ellis Anna Maria Andersson",
         "female",
         "2.0",
         "4",
         "2",
         "31.275"
        ],
        [
         "122",
         "1",
         "2",
         "Miss. Susan Webber",
         "female",
         "32.5",
         "0",
         "0",
         "13.0"
        ],
        [
         "127",
         "1",
         "3",
         "Miss. Anna Peter",
         "female",
         "2.0",
         "1",
         "1",
         "22.3583"
        ],
        [
         "131",
         "0",
         "3",
         "Mrs. Alexander A (Grace Charity Laury) Robins",
         "female",
         "47.0",
         "1",
         "0",
         "14.5"
        ],
        [
         "132",
         "1",
         "2",
         "Mrs. Leopold (Mathilde Francoise Pede) Weisz",
         "female",
         "29.0",
         "1",
         "0",
         "26.0"
        ]
       ],
       "shape": {
        "columns": 8,
        "rows": 314
       }
      },
      "text/html": [
       "<div>\n",
       "<style scoped>\n",
       "    .dataframe tbody tr th:only-of-type {\n",
       "        vertical-align: middle;\n",
       "    }\n",
       "\n",
       "    .dataframe tbody tr th {\n",
       "        vertical-align: top;\n",
       "    }\n",
       "\n",
       "    .dataframe thead th {\n",
       "        text-align: right;\n",
       "    }\n",
       "</style>\n",
       "<table border=\"1\" class=\"dataframe\">\n",
       "  <thead>\n",
       "    <tr style=\"text-align: right;\">\n",
       "      <th></th>\n",
       "      <th>Survived</th>\n",
       "      <th>Pclass</th>\n",
       "      <th>Name</th>\n",
       "      <th>Gender</th>\n",
       "      <th>Age</th>\n",
       "      <th>Siblings/Spouses Aboard</th>\n",
       "      <th>Parents/Children Aboard</th>\n",
       "      <th>Fare</th>\n",
       "    </tr>\n",
       "  </thead>\n",
       "  <tbody>\n",
       "    <tr>\n",
       "      <th>1</th>\n",
       "      <td>1</td>\n",
       "      <td>1</td>\n",
       "      <td>Mrs. John Bradley (Florence Briggs Thayer) Cum...</td>\n",
       "      <td>female</td>\n",
       "      <td>38.0</td>\n",
       "      <td>1</td>\n",
       "      <td>0</td>\n",
       "      <td>71.2833</td>\n",
       "    </tr>\n",
       "    <tr>\n",
       "      <th>2</th>\n",
       "      <td>1</td>\n",
       "      <td>3</td>\n",
       "      <td>Miss. Laina Heikkinen</td>\n",
       "      <td>female</td>\n",
       "      <td>26.0</td>\n",
       "      <td>0</td>\n",
       "      <td>0</td>\n",
       "      <td>7.9250</td>\n",
       "    </tr>\n",
       "    <tr>\n",
       "      <th>3</th>\n",
       "      <td>1</td>\n",
       "      <td>1</td>\n",
       "      <td>Mrs. Jacques Heath (Lily May Peel) Futrelle</td>\n",
       "      <td>female</td>\n",
       "      <td>35.0</td>\n",
       "      <td>1</td>\n",
       "      <td>0</td>\n",
       "      <td>53.1000</td>\n",
       "    </tr>\n",
       "    <tr>\n",
       "      <th>8</th>\n",
       "      <td>1</td>\n",
       "      <td>3</td>\n",
       "      <td>Mrs. Oscar W (Elisabeth Vilhelmina Berg) Johnson</td>\n",
       "      <td>female</td>\n",
       "      <td>27.0</td>\n",
       "      <td>0</td>\n",
       "      <td>2</td>\n",
       "      <td>11.1333</td>\n",
       "    </tr>\n",
       "    <tr>\n",
       "      <th>9</th>\n",
       "      <td>1</td>\n",
       "      <td>2</td>\n",
       "      <td>Mrs. Nicholas (Adele Achem) Nasser</td>\n",
       "      <td>female</td>\n",
       "      <td>14.0</td>\n",
       "      <td>1</td>\n",
       "      <td>0</td>\n",
       "      <td>30.0708</td>\n",
       "    </tr>\n",
       "    <tr>\n",
       "      <th>...</th>\n",
       "      <td>...</td>\n",
       "      <td>...</td>\n",
       "      <td>...</td>\n",
       "      <td>...</td>\n",
       "      <td>...</td>\n",
       "      <td>...</td>\n",
       "      <td>...</td>\n",
       "      <td>...</td>\n",
       "    </tr>\n",
       "    <tr>\n",
       "      <th>876</th>\n",
       "      <td>1</td>\n",
       "      <td>2</td>\n",
       "      <td>Mrs. William (Imanita Parrish Hall) Shelley</td>\n",
       "      <td>female</td>\n",
       "      <td>25.0</td>\n",
       "      <td>0</td>\n",
       "      <td>1</td>\n",
       "      <td>26.0000</td>\n",
       "    </tr>\n",
       "    <tr>\n",
       "      <th>878</th>\n",
       "      <td>0</td>\n",
       "      <td>3</td>\n",
       "      <td>Miss. Gerda Ulrika Dahlberg</td>\n",
       "      <td>female</td>\n",
       "      <td>22.0</td>\n",
       "      <td>0</td>\n",
       "      <td>0</td>\n",
       "      <td>10.5167</td>\n",
       "    </tr>\n",
       "    <tr>\n",
       "      <th>881</th>\n",
       "      <td>0</td>\n",
       "      <td>3</td>\n",
       "      <td>Mrs. William (Margaret Norton) Rice</td>\n",
       "      <td>female</td>\n",
       "      <td>39.0</td>\n",
       "      <td>0</td>\n",
       "      <td>5</td>\n",
       "      <td>29.1250</td>\n",
       "    </tr>\n",
       "    <tr>\n",
       "      <th>883</th>\n",
       "      <td>1</td>\n",
       "      <td>1</td>\n",
       "      <td>Miss. Margaret Edith Graham</td>\n",
       "      <td>female</td>\n",
       "      <td>19.0</td>\n",
       "      <td>0</td>\n",
       "      <td>0</td>\n",
       "      <td>30.0000</td>\n",
       "    </tr>\n",
       "    <tr>\n",
       "      <th>884</th>\n",
       "      <td>0</td>\n",
       "      <td>3</td>\n",
       "      <td>Miss. Catherine Helen Johnston</td>\n",
       "      <td>female</td>\n",
       "      <td>7.0</td>\n",
       "      <td>1</td>\n",
       "      <td>2</td>\n",
       "      <td>23.4500</td>\n",
       "    </tr>\n",
       "  </tbody>\n",
       "</table>\n",
       "<p>314 rows × 8 columns</p>\n",
       "</div>"
      ],
      "text/plain": [
       "     Survived  Pclass                                               Name  \\\n",
       "1           1       1  Mrs. John Bradley (Florence Briggs Thayer) Cum...   \n",
       "2           1       3                              Miss. Laina Heikkinen   \n",
       "3           1       1        Mrs. Jacques Heath (Lily May Peel) Futrelle   \n",
       "8           1       3   Mrs. Oscar W (Elisabeth Vilhelmina Berg) Johnson   \n",
       "9           1       2                 Mrs. Nicholas (Adele Achem) Nasser   \n",
       "..        ...     ...                                                ...   \n",
       "876         1       2        Mrs. William (Imanita Parrish Hall) Shelley   \n",
       "878         0       3                        Miss. Gerda Ulrika Dahlberg   \n",
       "881         0       3                Mrs. William (Margaret Norton) Rice   \n",
       "883         1       1                        Miss. Margaret Edith Graham   \n",
       "884         0       3                     Miss. Catherine Helen Johnston   \n",
       "\n",
       "     Gender   Age  Siblings/Spouses Aboard  Parents/Children Aboard     Fare  \n",
       "1    female  38.0                        1                        0  71.2833  \n",
       "2    female  26.0                        0                        0   7.9250  \n",
       "3    female  35.0                        1                        0  53.1000  \n",
       "8    female  27.0                        0                        2  11.1333  \n",
       "9    female  14.0                        1                        0  30.0708  \n",
       "..      ...   ...                      ...                      ...      ...  \n",
       "876  female  25.0                        0                        1  26.0000  \n",
       "878  female  22.0                        0                        0  10.5167  \n",
       "881  female  39.0                        0                        5  29.1250  \n",
       "883  female  19.0                        0                        0  30.0000  \n",
       "884  female   7.0                        1                        2  23.4500  \n",
       "\n",
       "[314 rows x 8 columns]"
      ]
     },
     "execution_count": 18,
     "metadata": {},
     "output_type": "execute_result"
    }
   ],
   "source": [
    "# Rename the column 'sex' to 'gender'\n",
    "titanic.rename(columns={'Sex': 'Gender'}, inplace=True)\n",
    "\n",
    "# Filter the dataframe using the boolean array\n",
    "woman_titanic = titanic[array_fe]\n",
    "woman_titanic"
   ]
  },
  {
   "attachments": {},
   "cell_type": "markdown",
   "metadata": {},
   "source": [
    "15. How many woman were younger than 18? Call the variable `minor_wo`"
   ]
  },
  {
   "cell_type": "code",
   "execution_count": null,
   "metadata": {},
   "outputs": [
    {
     "name": "stdout",
     "output_type": "stream",
     "text": [
      "63\n"
     ]
    }
   ],
   "source": [
    "# Filter the dataframe for women younger than 18\n",
    "minor_wo = woman_titanic[woman_titanic['Age'] < 18]\n",
    "\n",
    "# Count the number of such women\n",
    "minor_wo_count = len(minor_wo)\n",
    "print(minor_wo_count)"
   ]
  },
  {
   "attachments": {},
   "cell_type": "markdown",
   "metadata": {},
   "source": [
    "16. How many woman that were less than 18 actually died? Call the variable `dead_wo`"
   ]
  },
  {
   "cell_type": "code",
   "execution_count": null,
   "metadata": {},
   "outputs": [
    {
     "name": "stdout",
     "output_type": "stream",
     "text": [
      "23\n"
     ]
    }
   ],
   "source": [
    "# Filter the dataframe for women younger than 18 who didn't survive\n",
    "minor_wo_died = woman_titanic[(woman_titanic['Age'] < 18) & (woman_titanic['Survived'] == 0)]\n",
    "\n",
    "# Count the number of such women\n",
    "minor_wo_died_count = len(minor_wo_died)\n",
    "print(minor_wo_died_count)"
   ]
  },
  {
   "attachments": {},
   "cell_type": "markdown",
   "metadata": {},
   "source": [
    "17. Drop rows with *Nan* in `titanic` with `how='any'` and print the shape\n",
    "\n"
   ]
  },
  {
   "cell_type": "code",
   "execution_count": null,
   "metadata": {},
   "outputs": [
    {
     "name": "stdout",
     "output_type": "stream",
     "text": [
      "(887, 8)\n"
     ]
    }
   ],
   "source": [
    "# Drop rows with any NaN values\n",
    "titanic_cleaned = titanic.dropna(how='any')\n",
    "\n",
    "# Print the shape of the cleaned dataframe\n",
    "print(titanic_cleaned.shape)"
   ]
  },
  {
   "attachments": {},
   "cell_type": "markdown",
   "metadata": {},
   "source": [
    "18. Drop rows with *Nan* in `titanic` with `how='all'` and print the shape\n"
   ]
  },
  {
   "cell_type": "code",
   "execution_count": null,
   "metadata": {},
   "outputs": [
    {
     "name": "stdout",
     "output_type": "stream",
     "text": [
      "(887, 8)\n"
     ]
    }
   ],
   "source": [
    "# Drop rows where all values are NaN\n",
    "titanic_cleaned = titanic.dropna(how='all')\n",
    "\n",
    "# Print the shape of the cleaned dataframe\n",
    "print(titanic_cleaned.shape)"
   ]
  },
  {
   "attachments": {},
   "cell_type": "markdown",
   "metadata": {},
   "source": [
    "Check in [here](https://pandas.pydata.org/pandas-docs/stable/reference/api/pandas.DataFrame.dropna.html) why the shapes are different."
   ]
  },
  {
   "cell_type": "markdown",
   "metadata": {},
   "source": [
    "El valor por defecto es ``how='any'``, de forma que cualquier fila o columna (dependiendo de la palabra clave ``axis``) que contenga un valor nulo será descartada.\n",
    "También se puede especificar ``how='all'``, que sólo eliminará las filas/columnas que sean *todos* valores nulos:"
   ]
  },
  {
   "attachments": {},
   "cell_type": "markdown",
   "metadata": {},
   "source": [
    "19. Drop columns in `titanic` with more than 1000 missing values and print the columns remaining"
   ]
  },
  {
   "cell_type": "code",
   "execution_count": null,
   "metadata": {},
   "outputs": [
    {
     "name": "stdout",
     "output_type": "stream",
     "text": [
      "Index(['Survived', 'Pclass', 'Name', 'Gender', 'Age',\n",
      "       'Siblings/Spouses Aboard', 'Parents/Children Aboard', 'Fare'],\n",
      "      dtype='object')\n"
     ]
    }
   ],
   "source": [
    "# Drop columns with more than 1000 missing values\n",
    "titanic_cleaned = titanic.dropna(thresh=len(titanic) - 1000, axis=1)\n",
    "\n",
    "# Print the remaining columns\n",
    "print(titanic_cleaned.columns)"
   ]
  },
  {
   "attachments": {},
   "cell_type": "markdown",
   "metadata": {},
   "source": [
    "20. Calculate the ratio of missing values at the `boat` column. "
   ]
  },
  {
   "cell_type": "code",
   "execution_count": null,
   "metadata": {},
   "outputs": [
    {
     "name": "stdout",
     "output_type": "stream",
     "text": [
      "0.0\n"
     ]
    }
   ],
   "source": [
    "# Calculate the ratio of missing values in the 'boat' column\n",
    "missing_ratio =titanic['Pclass'].isna().sum() / len(titanic)\n",
    "print(missing_ratio)"
   ]
  },
  {
   "attachments": {},
   "cell_type": "markdown",
   "metadata": {},
   "source": [
    "21.  Group `titanic` by `'pclass'` and aggregate by the columns `age` & `fare`, by `max` and `median` and assign it to `by_class`\n"
   ]
  },
  {
   "cell_type": "code",
   "execution_count": 19,
   "metadata": {},
   "outputs": [
    {
     "data": {
      "application/vnd.microsoft.datawrangler.viewer.v0+json": {
       "columns": [
        {
         "name": "Pclass",
         "rawType": "int64",
         "type": "integer"
        },
        {
         "name": "('Age', 'max')",
         "rawType": "float64",
         "type": "float"
        },
        {
         "name": "('Age', 'median')",
         "rawType": "float64",
         "type": "float"
        },
        {
         "name": "('Fare', 'max')",
         "rawType": "float64",
         "type": "float"
        },
        {
         "name": "('Fare', 'median')",
         "rawType": "float64",
         "type": "float"
        }
       ],
       "conversionMethod": "pd.DataFrame",
       "ref": "0fc5d914-7b33-4726-bba7-5b2b47578d7e",
       "rows": [
        [
         "1",
         "80.0",
         "38.5",
         "512.3292",
         "60.287499999999994"
        ],
        [
         "2",
         "70.0",
         "29.0",
         "73.5",
         "14.25"
        ],
        [
         "3",
         "74.0",
         "24.0",
         "69.55",
         "8.05"
        ]
       ],
       "shape": {
        "columns": 4,
        "rows": 3
       }
      },
      "text/html": [
       "<div>\n",
       "<style scoped>\n",
       "    .dataframe tbody tr th:only-of-type {\n",
       "        vertical-align: middle;\n",
       "    }\n",
       "\n",
       "    .dataframe tbody tr th {\n",
       "        vertical-align: top;\n",
       "    }\n",
       "\n",
       "    .dataframe thead tr th {\n",
       "        text-align: left;\n",
       "    }\n",
       "\n",
       "    .dataframe thead tr:last-of-type th {\n",
       "        text-align: right;\n",
       "    }\n",
       "</style>\n",
       "<table border=\"1\" class=\"dataframe\">\n",
       "  <thead>\n",
       "    <tr>\n",
       "      <th></th>\n",
       "      <th colspan=\"2\" halign=\"left\">Age</th>\n",
       "      <th colspan=\"2\" halign=\"left\">Fare</th>\n",
       "    </tr>\n",
       "    <tr>\n",
       "      <th></th>\n",
       "      <th>max</th>\n",
       "      <th>median</th>\n",
       "      <th>max</th>\n",
       "      <th>median</th>\n",
       "    </tr>\n",
       "    <tr>\n",
       "      <th>Pclass</th>\n",
       "      <th></th>\n",
       "      <th></th>\n",
       "      <th></th>\n",
       "      <th></th>\n",
       "    </tr>\n",
       "  </thead>\n",
       "  <tbody>\n",
       "    <tr>\n",
       "      <th>1</th>\n",
       "      <td>80.0</td>\n",
       "      <td>38.5</td>\n",
       "      <td>512.3292</td>\n",
       "      <td>60.2875</td>\n",
       "    </tr>\n",
       "    <tr>\n",
       "      <th>2</th>\n",
       "      <td>70.0</td>\n",
       "      <td>29.0</td>\n",
       "      <td>73.5000</td>\n",
       "      <td>14.2500</td>\n",
       "    </tr>\n",
       "    <tr>\n",
       "      <th>3</th>\n",
       "      <td>74.0</td>\n",
       "      <td>24.0</td>\n",
       "      <td>69.5500</td>\n",
       "      <td>8.0500</td>\n",
       "    </tr>\n",
       "  </tbody>\n",
       "</table>\n",
       "</div>"
      ],
      "text/plain": [
       "         Age             Fare         \n",
       "         max median       max   median\n",
       "Pclass                                \n",
       "1       80.0   38.5  512.3292  60.2875\n",
       "2       70.0   29.0   73.5000  14.2500\n",
       "3       74.0   24.0   69.5500   8.0500"
      ]
     },
     "execution_count": 19,
     "metadata": {},
     "output_type": "execute_result"
    }
   ],
   "source": [
    "# Group by 'pclass' and aggregate 'age' and 'fare' with max and median\n",
    "by_class = titanic.groupby('Pclass')[['Age', 'Fare']].agg(['max', 'median'])\n",
    "\n",
    "# Display the resulting DataFrame\n",
    "by_class"
   ]
  },
  {
   "attachments": {},
   "cell_type": "markdown",
   "metadata": {},
   "source": [
    "22. Print the maximum age in each class from `by_class`"
   ]
  },
  {
   "cell_type": "code",
   "execution_count": 20,
   "metadata": {},
   "outputs": [
    {
     "name": "stdout",
     "output_type": "stream",
     "text": [
      "Pclass\n",
      "1    80.0\n",
      "2    70.0\n",
      "3    74.0\n",
      "Name: (Age, max), dtype: float64\n"
     ]
    }
   ],
   "source": [
    "print(by_class.iloc[:,0])"
   ]
  },
  {
   "attachments": {},
   "cell_type": "markdown",
   "metadata": {},
   "source": [
    "23. Print the median fare in each class from `by_class`"
   ]
  },
  {
   "cell_type": "code",
   "execution_count": 21,
   "metadata": {},
   "outputs": [
    {
     "name": "stdout",
     "output_type": "stream",
     "text": [
      "Pclass\n",
      "1    60.2875\n",
      "2    14.2500\n",
      "3     8.0500\n",
      "Name: (Fare, median), dtype: float64\n"
     ]
    }
   ],
   "source": [
    "print(by_class.iloc[:,3])"
   ]
  },
  {
   "attachments": {},
   "cell_type": "markdown",
   "metadata": {},
   "source": [
    "24. Using [`.pivot_table()`](https://pandas.pydata.org/pandas-docs/stable/reference/api/pandas.pivot_table.html) to count how many women or men survived by class, call it `counted`.\n",
    "\n",
    "Don't panic and read the documentation!\n",
    "\n",
    "\n"
   ]
  },
  {
   "cell_type": "code",
   "execution_count": null,
   "metadata": {},
   "outputs": [
    {
     "name": "stdout",
     "output_type": "stream",
     "text": [
      "Gender  female  male\n",
      "Pclass              \n",
      "1           91    45\n",
      "2           70    17\n",
      "3           72    47\n"
     ]
    }
   ],
   "source": [
    "# Create a pivot table to count survival grouped by 'pclass' and 'gender'\n",
    "counted = titanic.pivot_table(index='Pclass', columns='Gender', values='Survived', aggfunc='sum')\n",
    "\n",
    "# Display the pivot table\n",
    "print(counted)"
   ]
  },
  {
   "attachments": {},
   "cell_type": "markdown",
   "metadata": {},
   "source": [
    "25. Add a new column with the sum of survived men and women, call it `counted['total']` \n"
   ]
  },
  {
   "cell_type": "code",
   "execution_count": null,
   "metadata": {},
   "outputs": [
    {
     "name": "stdout",
     "output_type": "stream",
     "text": [
      "Gender  female  male  total\n",
      "Pclass                     \n",
      "1           91    45    136\n",
      "2           70    17     87\n",
      "3           72    47    119\n"
     ]
    }
   ],
   "source": [
    "# Add a new column 'total' with the sum of survived men and women\n",
    "counted['total'] = counted['male'] + counted['female']\n",
    "\n",
    "# Display the updated DataFrame\n",
    "print(counted)"
   ]
  },
  {
   "attachments": {},
   "cell_type": "markdown",
   "metadata": {},
   "source": [
    "26. Sort `counted` by the `'total'` column. In which class the people survived the most?"
   ]
  },
  {
   "cell_type": "code",
   "execution_count": null,
   "metadata": {},
   "outputs": [
    {
     "name": "stdout",
     "output_type": "stream",
     "text": [
      "Gender  female  male  total\n",
      "Pclass                     \n",
      "1           91    45    136\n",
      "3           72    47    119\n",
      "2           70    17     87\n",
      "Class with the highest survival: 1\n"
     ]
    }
   ],
   "source": [
    "# Sort the dataframe by the 'total' column in descending order\n",
    "counted_sorted = counted.sort_values(by='total', ascending=False)\n",
    "print(counted_sorted)\n",
    "\n",
    "# Display the class where survival was the highest\n",
    "highest_survival_class = counted_sorted.index[0]\n",
    "print(\"Class with the highest survival:\", highest_survival_class)"
   ]
  },
  {
   "attachments": {},
   "cell_type": "markdown",
   "metadata": {},
   "source": [
    "27. Please, show only the rows using a mask with the following conditions: \n",
    "    - They are woman\n",
    "    - From third class\n",
    "    - Younger than 30\n",
    "    - They survived\n",
    "    \n",
    "    ¿How many rows fulfill the condition?"
   ]
  },
  {
   "cell_type": "code",
   "execution_count": null,
   "metadata": {},
   "outputs": [
    {
     "name": "stdout",
     "output_type": "stream",
     "text": [
      "59\n"
     ]
    }
   ],
   "source": [
    "# Create a mask for the given conditions\n",
    "mask = (titanic['Gender'] == 'female') & (titanic['Pclass'] == 3) & (titanic['Age'] <30) & (titanic['Survived'] == 1)\n",
    "\n",
    "# Apply the mask to filter the rows\n",
    "filtered_rows = titanic[mask]\n",
    "\n",
    "# Count the number of rows that meet the condition\n",
    "row_count = len(filtered_rows)\n",
    "print(row_count)\n"
   ]
  },
  {
   "attachments": {},
   "cell_type": "markdown",
   "metadata": {},
   "source": [
    "28. Now, show only the rows using `.loc` with the following conditions: \n",
    "    - They are man\n",
    "    - From first class\n",
    "    - Older than 50\n",
    "    - They died\n",
    "    \n",
    "    ¿How many rows fulfill the condition?"
   ]
  },
  {
   "cell_type": "code",
   "execution_count": null,
   "metadata": {},
   "outputs": [
    {
     "name": "stdout",
     "output_type": "stream",
     "text": [
      "24\n"
     ]
    }
   ],
   "source": [
    "# Apply the conditions using `.loc`\n",
    "filtered_rows = titanic.loc[(titanic['Gender'] == 'male') & (titanic['Pclass'] == 1) & (titanic['Age'] > 50) & (titanic['Survived'] == 0)]\n",
    "\n",
    "# Count the number of rows that meet the conditions\n",
    "row_count = len(filtered_rows)\n",
    "print(row_count)"
   ]
  },
  {
   "attachments": {},
   "cell_type": "markdown",
   "metadata": {},
   "source": [
    "29. Print the uniques values at the column `'name'`"
   ]
  },
  {
   "cell_type": "code",
   "execution_count": null,
   "metadata": {},
   "outputs": [
    {
     "data": {
      "text/plain": [
       "array(['Mr. Owen Harris Braund',\n",
       "       'Mrs. John Bradley (Florence Briggs Thayer) Cumings',\n",
       "       'Miss. Laina Heikkinen',\n",
       "       'Mrs. Jacques Heath (Lily May Peel) Futrelle',\n",
       "       'Mr. William Henry Allen', 'Mr. James Moran',\n",
       "       'Mr. Timothy J McCarthy', 'Master. Gosta Leonard Palsson',\n",
       "       'Mrs. Oscar W (Elisabeth Vilhelmina Berg) Johnson',\n",
       "       'Mrs. Nicholas (Adele Achem) Nasser',\n",
       "       'Miss. Marguerite Rut Sandstrom', 'Miss. Elizabeth Bonnell',\n",
       "       'Mr. William Henry Saundercock', 'Mr. Anders Johan Andersson',\n",
       "       'Miss. Hulda Amanda Adolfina Vestrom',\n",
       "       'Mrs. (Mary D Kingcome) Hewlett', 'Master. Eugene Rice',\n",
       "       'Mr. Charles Eugene Williams',\n",
       "       'Mrs. Julius (Emelia Maria Vandemoortele) Vander Planke',\n",
       "       'Mrs. Fatima Masselmani', 'Mr. Joseph J Fynney',\n",
       "       'Mr. Lawrence Beesley', 'Miss. Anna McGowan',\n",
       "       'Mr. William Thompson Sloper', 'Miss. Torborg Danira Palsson',\n",
       "       'Mrs. Carl Oscar (Selma Augusta Emilia Johansson) Asplund',\n",
       "       'Mr. Farred Chehab Emir', 'Mr. Charles Alexander Fortune',\n",
       "       \"Miss. Ellen O'Dwyer\", 'Mr. Lalio Todoroff',\n",
       "       'Don. Manuel E Uruchurtu',\n",
       "       'Mrs. William Augustus (Marie Eugenie) Spencer',\n",
       "       'Miss. Mary Agatha Glynn', 'Mr. Edward H Wheadon',\n",
       "       'Mr. Edgar Joseph Meyer', 'Mr. Alexander Oskar Holverson',\n",
       "       'Mr. Hanna Mamee', 'Mr. Ernest Charles Cann',\n",
       "       'Miss. Augusta Maria Vander Planke', 'Miss. Jamila Nicola-Yarred',\n",
       "       'Mrs. Johan (Johanna Persdotter Larsson) Ahlin',\n",
       "       'Mrs. William John Robert (Dorothy Ann Wonnacott) Turpin',\n",
       "       'Miss. Simonne Marie Anne Andree Laroche',\n",
       "       'Miss. Margaret Delia Devaney', 'Mr. William John Rogers',\n",
       "       'Mr. Denis Lennon', \"Miss. Bridget O'Driscoll\",\n",
       "       'Mr. Youssef Samaan',\n",
       "       'Mrs. Josef (Josefine Franchi) Arnold-Franchi',\n",
       "       'Master. Juha Niilo Panula', 'Mr. Richard Cater Nosworthy',\n",
       "       'Mrs. Henry Sleeper (Myna Haxtun) Harper',\n",
       "       'Mrs. Lizzie (Elizabeth Anne Wilkinson) Faunthorpe',\n",
       "       'Mr. Engelhart Cornelius Ostby', 'Mr. Hugh Woolner',\n",
       "       'Miss. Emily Rugg', 'Mr. Mansouer Novel',\n",
       "       'Miss. Constance Mirium West', 'Master. William Frederick Goodwin',\n",
       "       'Mr. Orsen Sirayanian', 'Miss. Amelie Icard',\n",
       "       'Mr. Henry Birkhardt Harris', 'Master. Harald Skoog',\n",
       "       'Mr. Albert A Stewart', 'Master. Gerios Moubarek',\n",
       "       'Mrs. (Elizabeth Ramell) Nye', 'Mr. Ernest James Crease',\n",
       "       'Miss. Erna Alexandra Andersson', 'Mr. Vincenz Kink',\n",
       "       'Mr. Stephen Curnow Jenkin', 'Miss. Lillian Amy Goodwin',\n",
       "       'Mr. Ambrose Jr Hood', 'Mr. Apostolos Chronopoulos',\n",
       "       'Mr. Lee Bing', 'Mr. Sigurd Hansen Moen', 'Mr. Ivan Staneff',\n",
       "       'Mr. Rahamin Haim Moutal', 'Master. Alden Gates Caldwell',\n",
       "       'Miss. Elizabeth Dowdell', 'Mr. Achille Waelens',\n",
       "       'Mr. Jan Baptist Sheerlinck', 'Miss. Brigdet Delia McDermott',\n",
       "       'Mr. Francisco M Carrau', 'Miss. Bertha Ilett',\n",
       "       'Mrs. Karl Alfred (Maria Mathilda Gustafsson) Backstrom',\n",
       "       'Mr. William Neal Ford', 'Mr. Selman Francis Slocovski',\n",
       "       'Miss. Mabel Helen Fortune', 'Mr. Francesco Celotti',\n",
       "       'Mr. Emil Christmann', 'Mr. Paul Edvin Andreasson',\n",
       "       'Mr. Herbert Fuller Chaffee', 'Mr. Bertram Frank Dean',\n",
       "       'Mr. Daniel Coxon', 'Mr. Charles Joseph Shorney',\n",
       "       'Mr. George B Goldschmidt', 'Mr. William Bertram Greenfield',\n",
       "       'Mrs. John T (Ada Julia Bone) Doling', 'Mr. Sinai Kantor',\n",
       "       'Miss. Matilda Petranec', 'Mr. Pastcho Petroff',\n",
       "       'Mr. Richard Frasar White', 'Mr. Gustaf Joel Johansson',\n",
       "       'Mr. Anders Vilhelm Gustafsson', 'Mr. Stoytcho Mionoff',\n",
       "       'Miss. Anna Kristine Salkjelsvik', 'Mr. Albert Johan Moss',\n",
       "       'Mr. Tido Rekic', 'Miss. Bertha Moran',\n",
       "       'Mr. Walter Chamberlain Porter', 'Miss. Hileni Zabour',\n",
       "       'Mr. David John Barton', 'Miss. Katriina Jussila',\n",
       "       'Miss. Malake Attalah', 'Mr. Edvard Pekoniemi',\n",
       "       'Mr. Patrick Connors', 'Mr. William John Robert Turpin',\n",
       "       'Mr. Quigg Edmond Baxter', 'Miss. Ellis Anna Maria Andersson',\n",
       "       'Mr. Stanley George Hickman', 'Mr. Leonard Charles Moore',\n",
       "       'Mr. Nicholas Nasser', 'Miss. Susan Webber',\n",
       "       'Mr. Percival Wayland White', 'Master. Elias Nicola-Yarred',\n",
       "       'Mr. Martin McMahon', 'Mr. Fridtjof Arne Madsen',\n",
       "       'Miss. Anna Peter', 'Mr. Johan Ekstrom', 'Mr. Jozef Drazenoic',\n",
       "       'Mr. Domingos Fernandeo Coelho',\n",
       "       'Mrs. Alexander A (Grace Charity Laury) Robins',\n",
       "       'Mrs. Leopold (Mathilde Francoise Pede) Weisz',\n",
       "       'Mr. Samuel James Hayden Sobey', 'Mr. Emile Richard',\n",
       "       'Miss. Helen Monypeny Newsom', 'Mr. Jacques Heath Futrelle',\n",
       "       'Mr. Olaf Elon Osen', 'Mr. Victor Giglio',\n",
       "       'Mrs. Joseph (Sultana) Boulos', 'Miss. Anna Sofia Nysten',\n",
       "       'Mrs. Pekka Pietari (Elin Matilda Dolck) Hakkarainen',\n",
       "       'Mr. Jeremiah Burke', 'Mr. Edgardo Samuel Andrew',\n",
       "       'Mr. Joseph Charles Nicholls', 'Mr. August Edvard Andersson',\n",
       "       'Miss. Robina Maggie Ford', 'Mr. Michel Navratil',\n",
       "       'Rev. Thomas Roussel Davids Byles', 'Rev. Robert James Bateman',\n",
       "       'Mrs. Thomas (Edith Wearne) Pears', 'Mr. Alfonzo Meo',\n",
       "       'Mr. Austin Blyler van Billiard', 'Mr. Ole Martin Olsen',\n",
       "       'Mr. Charles Duane Williams', 'Miss. Katherine Gilnagh',\n",
       "       'Mr. Harry Corn', 'Mr. Mile Smiljanic',\n",
       "       'Master. Thomas Henry Sage', 'Mr. John Hatfield Cribb',\n",
       "       'Mrs. James (Elizabeth Inglis Milne) Watt',\n",
       "       'Mr. John Viktor Bengtsson', 'Mr. Jovo Calic',\n",
       "       'Master. Eino Viljami Panula',\n",
       "       'Master. Frank John William Goldsmith',\n",
       "       'Mrs. (Edith Martha Bowerman) Chibnall',\n",
       "       'Mrs. William (Anna Bernhardina Karlsson) Skoog',\n",
       "       'Mr. John D Baumann', 'Mr. Lee Ling', 'Mr. Wyckoff Van der hoef',\n",
       "       'Master. Arthur Rice', 'Miss. Eleanor Ileen Johnson',\n",
       "       'Mr. Antti Wilhelm Sivola', 'Mr. James Clinch Smith',\n",
       "       'Mr. Klas Albin Klasen', 'Master. Henry Forbes Lefebre',\n",
       "       'Miss. Ann Elizabeth Isham', 'Mr. Reginald Hale',\n",
       "       'Mr. Lionel Leonard', 'Miss. Constance Gladys Sage',\n",
       "       'Mr. Rene Pernot', 'Master. Clarence Gustaf Hugo Asplund',\n",
       "       'Master. Richard F Becker', 'Miss. Luise Gretchen Kink-Heilmann',\n",
       "       'Mr. Hugh Roscoe Rood', \"Mrs. Thomas (Johanna Godfrey) O'Brien\",\n",
       "       'Mr. Charles Hallace Romaine', 'Mr. John Bourke',\n",
       "       'Mr. Stjepan Turcin', 'Mrs. (Rosa) Pinsky', 'Mr. William Carbines',\n",
       "       'Miss. Carla Christine Nielsine Andersen-Jensen',\n",
       "       'Master. Michel M Navratil',\n",
       "       'Mrs. James Joseph (Margaret Tobin) Brown', 'Miss. Elise Lurette',\n",
       "       'Mr. Robert Mernagh', 'Mr. Karl Siegwart Andreas Olsen',\n",
       "       'Miss. Margaret Madigan', 'Miss. Henriette Yrois',\n",
       "       'Mr. Nestor Cyriel Vande Walle', 'Mr. Frederick Sage',\n",
       "       'Mr. Jakob Alfred Johanson', 'Mr. Gerious Youseff',\n",
       "       'Mr. Gurshon Cohen', 'Miss. Telma Matilda Strom',\n",
       "       'Mr. Karl Alfred Backstrom', 'Mr. Nassef Cassem Albimona',\n",
       "       'Miss. Helen Carr', 'Mr. Henry Blank', 'Mr. Ahmed Ali',\n",
       "       'Miss. Clear Annie Cameron', 'Mr. John Henry Perkin',\n",
       "       'Mr. Hans Kristensen Givard', 'Mr. Philip Kiernan',\n",
       "       'Miss. Madeleine Newell', 'Miss. Eliina Honkanen',\n",
       "       'Mr. Sidney Samuel Jacobsohn', 'Miss. Albina Bazzani',\n",
       "       'Mr. Walter Harris', 'Mr. Victor Francis Sunderland',\n",
       "       'Mr. James H Bracken', 'Mr. George Henry Green',\n",
       "       'Mr. Christo Nenkoff', 'Mr. Frederick Maxfield Hoyt',\n",
       "       'Mr. Karl Ivar Sven Berglund', 'Mr. William John Mellors',\n",
       "       'Mr. John Hall Lovell', 'Mr. Arne Jonas Fahlstrom',\n",
       "       'Miss. Mathilde Lefebre',\n",
       "       'Mrs. Henry Birkhardt (Irene Wallach) Harris',\n",
       "       'Mr. Bengt Edvin Larsson', 'Mr. Ernst Adolf Sjostedt',\n",
       "       'Miss. Lillian Gertrud Asplund',\n",
       "       'Mr. Robert William Norman Leyson', 'Miss. Alice Phoebe Harknett',\n",
       "       'Mr. Stephen Hold', 'Miss. Marjorie Collyer',\n",
       "       'Mr. Frederick William Pengelly', 'Mr. George Henry Hunt',\n",
       "       'Miss. Thamine Zabour', 'Miss. Katherine Murphy',\n",
       "       'Mr. Reginald Charles Coleridge', 'Mr. Matti Alexanteri Maenpaa',\n",
       "       'Mr. Sleiman Attalah', 'Dr. William Edward Minahan',\n",
       "       'Miss. Agda Thorilda Viktoria Lindahl',\n",
       "       'Mrs. William (Anna) Hamalainen', 'Mr. Richard Leonard Beckwith',\n",
       "       'Rev. Ernest Courtenay Carter', 'Mr. James George Reed',\n",
       "       'Mrs. Wilhelm (Elna Matilda Persson) Strom',\n",
       "       'Mr. William Thomas Stead', 'Mr. William Arthur Lobb',\n",
       "       'Mrs. Viktor (Helena Wilhelmina) Rosblom',\n",
       "       'Mrs. Darwis (Hanne Youssef Razi) Touma',\n",
       "       'Mrs. Gertrude Maybelle Thorne', 'Miss. Gladys Cherry',\n",
       "       'Miss. Anna Ward', 'Mrs. (Lutie Davis) Parrish',\n",
       "       'Master. Edvin Rojj Felix Asplund', 'Mr. Emil Taussig',\n",
       "       'Mr. William Harrison', 'Miss. Delia Henry', 'Mr. David Reeves',\n",
       "       'Mr. Ernesti Arvid Panula', 'Mr. Ernst Ulrik Persson',\n",
       "       'Mrs. William Thompson (Edith Junkins) Graham',\n",
       "       'Miss. Amelia Bissette', 'Mr. Alexander Cairns',\n",
       "       'Mr. William Henry Tornquist',\n",
       "       'Mrs. (Elizabeth Anne Maidment) Mellinger', 'Mr. Charles H Natsch',\n",
       "       'Miss. Hanora Healy', 'Miss. Kornelia Theodosia Andrews',\n",
       "       'Miss. Augusta Charlotta Lindblom', 'Mr. Francis Parkes',\n",
       "       'Master. Eric Rice', 'Mrs. Stanton (Rosa Hunt) Abbott',\n",
       "       'Mr. Frank Duane', 'Mr. Nils Johan Goransson Olsson',\n",
       "       'Mr. Alfons de Pelsmaeker', 'Mr. Edward Arthur Dorking',\n",
       "       'Mr. Richard William Smith', 'Mr. Ivan Stankovic',\n",
       "       'Mr. Theodore de Mulder', 'Mr. Penko Naidenoff',\n",
       "       'Mr. Masabumi Hosono', 'Miss. Kate Connolly', 'Miss. Ellen Barber',\n",
       "       'Mrs. Dickinson H (Helen Walton) Bishop', 'Mr. Rene Jacques Levy',\n",
       "       'Miss. Aloisia Haas', 'Mr. Ivan Mineff', 'Mr. Ervin G Lewy',\n",
       "       'Mr. Mansour Hanna', 'Miss. Helen Loraine Allison',\n",
       "       'Mr. Adolphe Saalfeld',\n",
       "       'Mrs. James (Helene DeLaudeniere Chaput) Baxter',\n",
       "       'Miss. Anna Katherine Kelly', 'Mr. Bernard McCoy',\n",
       "       'Mr. William Cahoone Jr Johnson', 'Miss. Nora A Keane',\n",
       "       'Mr. Howard Hugh Williams', 'Master. Hudson Trevor Allison',\n",
       "       'Miss. Margaret Fleming',\n",
       "       'Mrs. Victor de Satode (Maria Josefa Perez de Soto y Vallejo) Penasco y Castellana',\n",
       "       'Mr. Samuel Abelson', 'Miss. Laura Mabel Francatelli',\n",
       "       'Miss. Margaret Bechstein Hays', 'Miss. Emily Borie Ryerson',\n",
       "       'Mrs. William (Anna Sylfven) Lahtinen', 'Mr. Ignjac Hendekovic',\n",
       "       'Mr. Benjamin Hart', 'Miss. Helmina Josefina Nilsson',\n",
       "       'Mrs. Sinai (Miriam Sternin) Kantor', 'Dr. Ernest Moraweck',\n",
       "       'Miss. Mary Natalie Wick',\n",
       "       'Mrs. Frederic Oakley (Margaretta Corning Stone) Spedden',\n",
       "       'Mr. Samuel Dennis', 'Mr. Yoto Danoff', 'Miss. Hilda Mary Slayter',\n",
       "       'Mrs. Albert Francis (Sylvia Mae Harbaugh) Caldwell',\n",
       "       'Mr. George John Jr Sage', 'Miss. Marie Grice Young',\n",
       "       'Mr. Johan Hansen Nysveen', 'Mrs. (Ada E Hall) Ball',\n",
       "       'Mrs. Frank John (Emily Alice Brown) Goldsmith',\n",
       "       'Miss. Jean Gertrude Hippach', 'Miss. Agnes McCoy',\n",
       "       'Mr. Austen Partner', 'Mr. George Edward Graham',\n",
       "       'Mr. Leo Edmondus Vander Planke',\n",
       "       'Mrs. Henry William (Clara Heinsheimer) Frauenthal',\n",
       "       'Mr. Mitto Denkoff', 'Mr. Thomas Clinton Pears',\n",
       "       'Miss. Elizabeth Margaret Burns', 'Mr. Karl Edwart Dahl',\n",
       "       'Mr. Stephen Weart Blackwell', 'Master. Edmond Roger Navratil',\n",
       "       'Miss. Alice Elizabeth Fortune', 'Mr. Erik Gustaf Collander',\n",
       "       'Mr. Charles Frederick Waddington Sedgwick',\n",
       "       'Mr. Stanley Hubert Fox', 'Miss. Amelia Brown',\n",
       "       'Miss. Marion Elsie Smith',\n",
       "       'Mrs. Thomas Henry (Mary E Finck) Davison',\n",
       "       'Master. William Loch Coutts', 'Mr. Jovan Dimic',\n",
       "       'Mr. Nils Martin Odahl', 'Mr. Fletcher Fellows Williams-Lambert',\n",
       "       'Mr. Tannous Elias', 'Mr. Josef Arnold-Franchi',\n",
       "       'Mr. Wazli Yousif', 'Mr. Leo Peter Vanden Steen',\n",
       "       'Miss. Elsie Edith Bowerman', 'Miss. Annie Clemmer Funk',\n",
       "       'Miss. Mary McGovern', 'Miss. Helen Mary Mockler',\n",
       "       'Mr. Wilhelm Skoog', 'Mr. Sebastiano del Carlo',\n",
       "       'Mrs. (Catherine David) Barbara', 'Mr. Adola Asim',\n",
       "       \"Mr. Thomas O'Brien\", 'Mr. Mauritz Nils Martin Adahl',\n",
       "       'Mrs. Frank Manley (Anna Sophia Atkinson) Warren',\n",
       "       'Mrs. (Mantoura Boulos) Moussa', 'Miss. Annie Jermyn',\n",
       "       'Mme. Leontine Pauline Aubart', 'Mr. George Achilles Harder',\n",
       "       'Mr. Jakob Alfred Wiklund', 'Mr. William Thomas Beavan',\n",
       "       'Mr. Sante Ringhini', 'Miss. Stina Viola Palsson',\n",
       "       'Mrs. Edgar Joseph (Leila Saks) Meyer',\n",
       "       'Miss. Aurora Adelia Landergren', 'Mr. Harry Elkins Widener',\n",
       "       'Mr. Tannous Betros', 'Mr. Karl Gideon Gustafsson',\n",
       "       'Miss. Rosalie Bidois', 'Miss. Maria Nakid', 'Mr. Juho Tikkanen',\n",
       "       'Mrs. Alexander Oskar (Mary Aline Towner) Holverson',\n",
       "       'Mr. Vasil Plotcharsky', 'Mr. Charles Henry Davies',\n",
       "       'Master. Sidney Leonard Goodwin', 'Miss. Kate Buss',\n",
       "       'Mr. Matthew Sadlier', 'Miss. Bertha Lehmann',\n",
       "       'Mr. William Ernest Carter', 'Mr. Carl Olof Jansson',\n",
       "       'Mr. Johan Birger Gustafsson', 'Miss. Marjorie Newell',\n",
       "       'Mrs. Hjalmar (Agnes Charlotta Bengtsson) Sandstrom',\n",
       "       'Mr. Erik Johansson', 'Miss. Elina Olsson',\n",
       "       'Mr. Peter David McKane', 'Dr. Alfred Pain',\n",
       "       'Mrs. William H (Jessie L) Trout', 'Mr. Juha Niskanen',\n",
       "       'Mr. John Adams', 'Miss. Mari Aina Jussila',\n",
       "       'Mr. Pekka Pietari Hakkarainen', 'Miss. Marija Oreskovic',\n",
       "       'Mr. Shadrach Gale', 'Mr. Carl/Charles Peter Widegren',\n",
       "       'Master. William Rowe Richards',\n",
       "       'Mr. Hans Martin Monsen Birkeland', 'Miss. Ida Lefebre',\n",
       "       'Mr. Todor Sdycoff', 'Mr. Henry Hart', 'Miss. Daisy E Minahan',\n",
       "       'Mr. Alfred Fleming Cunningham', 'Mr. Johan Julian Sundman',\n",
       "       'Mrs. Thomas (Annie Louise Rowley) Meek',\n",
       "       'Mrs. James Vivian (Lulu Thorne Christian) Drew',\n",
       "       'Miss. Lyyli Karoliina Silven', 'Mr. William John Matthews',\n",
       "       'Miss. Catharina Van Impe', 'Mr. David Charters',\n",
       "       'Mr. Leo Zimmerman',\n",
       "       'Mrs. Ernst Gilbert (Anna Sigrid Maria Brogren) Danbom',\n",
       "       'Mr. Viktor Richard Rosblom', 'Mr. Phillippe Wiseman',\n",
       "       'Mrs. Charles V (Ada Maria Winfield) Clarke',\n",
       "       'Miss. Kate Florence Phillips', 'Mr. James Flynn',\n",
       "       'Mr. Berk (Berk Trembisky) Pickard',\n",
       "       'Mr. Mauritz Hakan Bjornstrom-Steffansson',\n",
       "       'Mrs. Percival (Florence Kate White) Thorneycroft',\n",
       "       'Mrs. Charles Alexander (Alice Adelaide Slow) Louch',\n",
       "       'Mr. Nikolai Erland Kallio', 'Mr. William Baird Silvey',\n",
       "       'Miss. Lucile Polk Carter', 'Miss. Doolina Margaret Ford',\n",
       "       'Mrs. Sidney (Emily Hocking) Richards', 'Mr. Mark Fortune',\n",
       "       'Mr. Johan Henrik Johannesson Kvillner',\n",
       "       'Mrs. Benjamin (Esther Ada Bloomfield) Hart', 'Mr. Leon Hampe',\n",
       "       'Mr. Johan Emil Petterson', 'Ms. Encarnacion Reynaldo',\n",
       "       'Mr. Bernt Johannesen-Bratthammer', 'Master. Washington Dodge',\n",
       "       'Miss. Madeleine Violet Mellinger', 'Mr. Frederic Kimber Seward',\n",
       "       'Miss. Marie Catherine Baclini', 'Major. Arthur Godfrey Peuchen',\n",
       "       'Mr. Edwy Arthur West', 'Mr. Ingvald Olai Olsen Hagland',\n",
       "       'Mr. Benjamin Laventall Foreman', 'Mr. Samuel L Goldenberg',\n",
       "       'Mr. Joseph Peduzzi', 'Mr. Ivan Jalsevac',\n",
       "       'Mr. Francis Davis Millet', 'Mrs. Frederick R (Marion) Kenyon',\n",
       "       'Miss. Ellen Toomey', \"Mr. Maurice O'Connor\", 'Mr. Harry Anderson',\n",
       "       'Mr. William Morley', 'Mr. Arthur H Gee',\n",
       "       'Mr. Jacob Christian Milling', 'Mr. Simon Maisner',\n",
       "       'Mr. Manuel Estanslas Goncalves', 'Mr. William Campbell',\n",
       "       'Mr. John Montgomery Smart', 'Mr. James Scanlan',\n",
       "       'Miss. Helene Barbara Baclini', 'Mr. Arthur Keefe',\n",
       "       'Mr. Luka Cacic', 'Mrs. Edwy Arthur (Ada Mary Worth) West',\n",
       "       'Mrs. Amin S (Marie Marthe Thuillard) Jerwan',\n",
       "       'Miss. Ida Sofia Strandberg', 'Mr. George Quincy Clifford',\n",
       "       'Mr. Peter Henry Renouf', 'Mr. Lewis Richard Braund',\n",
       "       'Mr. Nils August Karlsson', 'Miss. Hildur E Hirvonen',\n",
       "       'Master. Harold Victor Goodwin', 'Mr. Anthony Wood Frost',\n",
       "       'Mr. Richard Henry Rouse', 'Mrs. (Hedwig) Turkula',\n",
       "       'Mr. Dickinson H Bishop', 'Miss. Jeannie Lefebre',\n",
       "       'Mrs. Frederick Maxfield (Jane Anne Forby) Hoyt',\n",
       "       'Mr. Edward Austin Kent', 'Mr. Francis William Somerton',\n",
       "       'Master. Eden Leslie Coutts',\n",
       "       'Mr. Konrad Mathias Reiersen Hagland', 'Mr. Einar Windelov',\n",
       "       'Mr. Harry Markland Molson', 'Mr. Ramon Artagaveytia',\n",
       "       'Mr. Edward Roland Stanley', 'Mr. Gerious Yousseff',\n",
       "       'Miss. Elizabeth Mussey Eustis', 'Mr. Frederick William Shellard',\n",
       "       'Mrs. Hudson J C (Bessie Waldo Daniels) Allison',\n",
       "       'Mr. Olof Svensson', 'Mr. Petar Calic', 'Miss. Mary Canavan',\n",
       "       \"Miss. Bridget Mary O'Sullivan\", 'Miss. Kristina Sofia Laitinen',\n",
       "       'Miss. Roberta Maioni',\n",
       "       'Mr. Victor de Satode Penasco y Castellana',\n",
       "       'Mrs. Frederick Charles (Jane Richards) Quick',\n",
       "       'Mr. George Bradley', 'Mr. Henry Margido Olsen', 'Mr. Fang Lang',\n",
       "       'Mr. Eugene Patrick Daly', 'Mr. James Webber',\n",
       "       'Mr. James Robert McGough',\n",
       "       'Mrs. Martin (Elizabeth L. Barrett) Rothschild',\n",
       "       'Mr. Satio Coleff', 'Mr. William Anderson Walker',\n",
       "       'Mrs. (Amelia Milley) Lemore', 'Mr. Patrick Ryan',\n",
       "       'Mrs. William A (Florence Agnes Hughes) Angle',\n",
       "       'Mr. Stefo Pavlovic', 'Miss. Anne Perreault', 'Mr. Janko Vovk',\n",
       "       'Mr. Sarkis Lahoud',\n",
       "       'Mrs. Louis Albert (Ida Sophia Fischer) Hippach',\n",
       "       'Mr. Fared Kassem', 'Mr. James Farrell', 'Miss. Lucy Ridsdale',\n",
       "       'Mr. John Farthing', 'Mr. Johan Werner Salonen',\n",
       "       'Mr. Richard George Hocking', 'Miss. Phyllis May Quick',\n",
       "       'Mr. Nakli Toufik', 'Mr. Joseph Jr Elias',\n",
       "       'Mrs. Catherine (Catherine Rizk) Peter', 'Miss. Marija Cacic',\n",
       "       'Miss. Eva Miriam Hart', 'Major. Archibald Willingham Butt',\n",
       "       'Miss. Bertha LeRoy', 'Mr. Samuel Beard Risien',\n",
       "       'Miss. Hedwig Margaritha Frolicher', 'Miss. Harriet R Crosby',\n",
       "       'Miss. Ingeborg Constanzia Andersson',\n",
       "       'Miss. Sigrid Elisabeth Andersson', 'Mr. Edward Beane',\n",
       "       'Mr. Walter Donald Douglas', 'Mr. Arthur Ernest Nicholson',\n",
       "       'Mrs. Edward (Ethel Clarke) Beane', 'Mr. Julian Padro y Manent',\n",
       "       'Mr. Frank John Goldsmith', 'Master. John Morgan Jr Davies',\n",
       "       'Mr. John Borland Jr Thayer', 'Mr. Percival James R Sharp',\n",
       "       \"Mr. Timothy O'Brien\", 'Mr. Fahim Leeni', 'Miss. Velin Ohman',\n",
       "       'Mr. George Wright',\n",
       "       'Lady. (Lucille Christiana Sutherland)Duff Gordon',\n",
       "       'Mr. Victor Robbins', 'Mrs. Emil (Tillie Mandelbaum) Taussig',\n",
       "       'Mrs. Guillaume Joseph (Emma) de Messemaeker',\n",
       "       'Mr. Thomas Rowan Morrow', 'Mr. Husein Sivic',\n",
       "       'Mr. Robert Douglas Norman', 'Mr. John Simmons',\n",
       "       'Miss. (Marion Ogden) Meanwell', 'Mr. Alfred J Davies',\n",
       "       'Mr. Ilia Stoytcheff',\n",
       "       'Mrs. Nils (Alma Cornelia Berglund) Palsson', 'Mr. Tannous Doharr',\n",
       "       'Mr. Carl Jonsson', 'Mr. George Harris',\n",
       "       'Mrs. Edward Dale (Charlotte Lamson) Appleton',\n",
       "       'Mr. John Irwin Flynn', 'Miss. Mary Kelly',\n",
       "       'Mr. Alfred George John Rush', 'Mr. George Patchett',\n",
       "       'Miss. Ethel Garside', 'Mrs. William Baird (Alice Munger) Silvey',\n",
       "       'Mrs. Joseph (Maria Elias) Caram', 'Mr. Eiriik Jussila',\n",
       "       'Miss. Julie Rachel Christy',\n",
       "       'Mrs. John Borland (Marian Longstreth Morris) Thayer',\n",
       "       'Mr. William James Downton', 'Mr. John Hugo Ross',\n",
       "       'Mr. Uscher Paulner', 'Miss. Ruth Taussig',\n",
       "       'Mr. John Denzil Jarvis', 'Mr. Maxmillian Frolicher-Stehli',\n",
       "       'Mr. Eliezer Gilinski', 'Mr. Joseph Murdlin',\n",
       "       'Mr. Matti Rintamaki',\n",
       "       'Mrs. Walter Bertram (Martha Eustis) Stephenson',\n",
       "       'Mr. William James Elsbury', 'Miss. Mary Bourke',\n",
       "       'Mr. John Henry Chapman', 'Mr. Jean Baptiste Van Impe',\n",
       "       'Miss. Jessie Wills Leitch', 'Mr. Alfred Johnson',\n",
       "       'Mr. Hanna Boulos', 'Sir. Cosmo Edmund Duff Gordon',\n",
       "       'Mrs. Sidney Samuel (Amy Frances Christy) Jacobsohn',\n",
       "       'Mr. Petco Slabenoff', 'Mr. Charles H Harrington',\n",
       "       'Mr. Ernst William Torber', 'Mr. Harry Homer',\n",
       "       'Mr. Edvard Bengtsson Lindell', 'Mr. Milan Karaic',\n",
       "       'Mr. Robert Williams Daniel',\n",
       "       'Mrs. Joseph (Juliette Marie Louise Lafargue) Laroche',\n",
       "       'Miss. Elizabeth W Shutes',\n",
       "       'Mrs. Anders Johan (Alfrida Konstantia Brogren) Andersson',\n",
       "       'Mr. Jose Neto Jardin', 'Miss. Margaret Jane Murphy',\n",
       "       'Mr. John Horgan', 'Mr. William Alfred Brocklebank',\n",
       "       'Miss. Alice Herman', 'Mr. Ernst Gilbert Danbom',\n",
       "       'Mrs. William Arthur (Cordelia K Stanlick) Lobb',\n",
       "       'Miss. Marion Louise Becker', 'Mr. Lawrence Gavey',\n",
       "       'Mr. Antoni Yasbeck', 'Mr. Edwin Nelson Jr Kimball',\n",
       "       'Mr. Sahid Nakid', 'Mr. Henry Damsgaard Hansen',\n",
       "       'Mr. David John Bowen', 'Mr. Frederick Sutton',\n",
       "       'Rev. Charles Leonard Kirkland', 'Miss. Gretchen Fiske Longley',\n",
       "       'Mr. Guentcho Bostandyeff', \"Mr. Patrick D O'Connell\",\n",
       "       'Mr. Algernon Henry Wilson Barkworth',\n",
       "       'Mr. Johan Svensson Lundahl', 'Dr. Max Stahelin-Maeglin',\n",
       "       'Mr. William Henry Marsh Parr', 'Miss. Mabel Skoog',\n",
       "       'Miss. Mary Davis', 'Mr. Antti Gustaf Leinonen',\n",
       "       'Mr. Harvey Collyer', 'Mrs. Juha (Maria Emilia Ojala) Panula',\n",
       "       'Mr. Percival Thorneycroft', 'Mr. Hans Peder Jensen',\n",
       "       'Mlle. Emma Sagesser', 'Miss. Margit Elizabeth Skoog',\n",
       "       'Mr. Choong Foo', 'Miss. Eugenie Baclini',\n",
       "       'Mr. Henry Sleeper Harper', 'Mr. Liudevit Cor',\n",
       "       'Col. Oberst Alfons Simonius-Blumer', 'Mr. Edward Willey',\n",
       "       'Miss. Amy Zillah Elsie Stanley', 'Mr. Mito Mitkoff',\n",
       "       'Miss. Elsie Doling', 'Mr. Johannes Halvorsen Kalvik',\n",
       "       \"Miss. Hanora O'Leary\", 'Miss. Hanora Hegarty',\n",
       "       'Mr. Leonard Mark Hickman', 'Mr. Alexander Radeff',\n",
       "       'Mrs. John (Catherine) Bourke', 'Mr. George Floyd Eitemiller',\n",
       "       'Mr. Arthur Webster Newell', 'Dr. Henry William Frauenthal',\n",
       "       'Mr. Mohamed Badt', 'Mr. Edward Pomeroy Colley', 'Mr. Peju Coleff',\n",
       "       'Mr. Eino William Lindqvist', 'Mr. Lewis Hickman',\n",
       "       'Mr. Reginald Fenton Butler', 'Mr. Knud Paust Rommetvedt',\n",
       "       'Mr. Jacob Cook',\n",
       "       'Mrs. Elmer Zebley (Juliet Cummins Wright) Taylor',\n",
       "       'Mrs. Thomas William Solomon (Elizabeth Catherine Ford) Brown',\n",
       "       'Mr. Thornton Davidson', 'Mr. Henry Michael Mitchell',\n",
       "       'Mr. Charles Wilhelms', 'Mr. Ennis Hastings Watson',\n",
       "       'Mr. Gustaf Hjalmar Edvardsson', 'Mr. Frederick Charles Sawyer',\n",
       "       'Miss. Anna Sofia Turja', 'Mrs. Frederick (Augusta Tyler) Goodwin',\n",
       "       'Mr. Thomas Drake Martinez Cardeza', 'Miss. Katie Peters',\n",
       "       'Mr. Hammad Hassab', 'Mr. Thor Anderson Olsvigen',\n",
       "       'Mr. Charles Edward Goodwin', 'Mr. Thomas William Solomon Brown',\n",
       "       'Mr. Joseph Philippe Lemercier Laroche', 'Mr. Jaako Arnold Panula',\n",
       "       'Mr. Branko Dakic', 'Mr. Eberhard Thelander Fischer',\n",
       "       'Miss. Georgette Alexandra Madill', 'Mr. Albert Adrian Dick',\n",
       "       'Miss. Manca Karun', 'Mr. Ali Lam', 'Mr. Khalil Saad',\n",
       "       'Col. John Weir', 'Mr. Charles Henry Chapman', 'Mr. James Kelly',\n",
       "       'Miss. Katherine Mullens', 'Mr. John Borland Thayer',\n",
       "       'Mr. Adolf Mathias Nicolai Olsen Humblen',\n",
       "       'Mrs. John Jacob (Madeleine Talmadge Force) Astor',\n",
       "       'Mr. Spencer Victor Silverthorne', 'Miss. Saiide Barbara',\n",
       "       'Mr. Martin Gallagher', 'Mr. Henrik Juul Hansen',\n",
       "       'Mr. Henry Samuel Morley', 'Mrs. Florence Kelly',\n",
       "       'Mr. Edward Pennington Calderhead', 'Miss. Alice Cleaver',\n",
       "       'Master. Halim Gonios Moubarek', 'Mlle. Berthe Antonine Mayne',\n",
       "       'Mr. Herman Klaber', 'Mr. Elmer Zebley Taylor',\n",
       "       'Mr. August Viktor Larsson', 'Mr. Samuel Greenberg',\n",
       "       'Mr. Peter Andreas Lauritz Andersen Soholt',\n",
       "       'Miss. Caroline Louise Endres', 'Miss. Edwina Celia Troutt',\n",
       "       'Mr. Malkolm Joackim Johnson', 'Miss. Annie Jessie Harper',\n",
       "       'Mr. Svend Lauritz Jensen', 'Mr. William Henry Gillespie',\n",
       "       'Mr. Henry Price Hodges', 'Mr. Norman Campbell Chambers',\n",
       "       'Mr. Luka Oreskovic', 'Mrs. Peter Henry (Lillian Jefferys) Renouf',\n",
       "       'Miss. Margareth Mannion', 'Mr. Kurt Arnold Gottfrid Bryhl',\n",
       "       'Miss. Pieta Sofia Ilmakangas', 'Miss. Elisabeth Walton Allen',\n",
       "       'Mr. Houssein G N Hassan', 'Mr. Robert J Knight',\n",
       "       'Mr. William John Berriman', 'Mr. Moses Aaron Troupiansky',\n",
       "       'Mr. Leslie Williams', 'Mrs. Edward (Margaret Ann Watson) Ford',\n",
       "       'Mr. Gustave J Lesurer', 'Mr. Kanio Ivanoff', 'Mr. Minko Nankoff',\n",
       "       'Mr. Walter James Hawksford', 'Mr. Tyrell William Cavendish',\n",
       "       'Miss. Susan Parker Ryerson', 'Mr. Neal McNamee',\n",
       "       'Mr. Juho Stranden', 'Capt. Edward Gifford Crosby',\n",
       "       'Mr. Rossmore Edward Abbott', 'Miss. Anna Sinkkonen',\n",
       "       'Mr. Daniel Warner Marvin', 'Mr. Michael Connaghton',\n",
       "       'Miss. Joan Wells', 'Master. Meier Moor',\n",
       "       'Mr. Johannes Joseph Vande Velde', 'Mr. Lalio Jonkoff',\n",
       "       'Mrs. Samuel (Jane Laver) Herman', 'Master. Viljo Hamalainen',\n",
       "       'Mr. August Sigfrid Carlsson', 'Mr. Percy Andrew Bailey',\n",
       "       'Mr. Thomas Leonard Theobald',\n",
       "       'the Countess. of (Lucy Noel Martha Dyer-Edwards) Rothes',\n",
       "       'Mr. John Garfirth', 'Mr. Iisakki Antino Aijo Nirva',\n",
       "       'Mr. Hanna Assi Barah', 'Mrs. William Ernest (Lucile Polk) Carter',\n",
       "       'Mr. Hans Linus Eklund', 'Mrs. John C (Anna Andrews) Hogeboom',\n",
       "       'Dr. Arthur Jackson Brewe', 'Miss. Mary Mangan',\n",
       "       'Mr. Daniel J Moran', 'Mr. Daniel Danielsen Gronnestad',\n",
       "       'Mr. Rene Aime Lievens', 'Mr. Niels Peder Jensen',\n",
       "       'Mrs. (Mary) Mack', 'Mr. Dibo Elias',\n",
       "       'Mrs. Elizabeth (Eliza Needs) Hocking',\n",
       "       'Mr. Pehr Fabian Oliver Malkolm Myhrman', 'Mr. Roger Tobin',\n",
       "       'Miss. Virginia Ethel Emanuel', 'Mr. Thomas J Kilgannon',\n",
       "       'Mrs. Edward Scott (Elisabeth Walton McMillan) Robert',\n",
       "       'Miss. Banoura Ayoub', 'Mrs. Albert Adrian (Vera Gillespie) Dick',\n",
       "       'Mr. Milton Clyde Long', 'Mr. Andrew G Johnston',\n",
       "       'Mr. William Ali', 'Mr. Abraham (David Lishin) Harmer',\n",
       "       'Miss. Anna Sofia Sjoblom', 'Master. George Hugh Rice',\n",
       "       'Master. Bertram Vere Dean', 'Mr. Benjamin Guggenheim',\n",
       "       'Mr. Andrew Keane', 'Mr. Alfred Gaskell', 'Miss. Stella Anna Sage',\n",
       "       'Mr. William Fisher Hoyt', 'Mr. Ristiu Dantcheff',\n",
       "       'Mr. Richard Otter', 'Dr. Alice (Farnham) Leader',\n",
       "       'Mrs. Mara Osman', 'Mr. Yousseff Ibrahim Shawah',\n",
       "       'Mrs. Jean Baptiste (Rosalie Paula Govaert) Van Impe',\n",
       "       'Mr. Martin Ponesell',\n",
       "       'Mrs. Harvey (Charlotte Annie Tate) Collyer',\n",
       "       'Master. William Thornton II Carter',\n",
       "       'Master. Assad Alexander Thomas', 'Mr. Oskar Arvid Hedman',\n",
       "       'Mr. Karl Johan Johansson', 'Mr. Thomas Jr Andrews',\n",
       "       'Miss. Ellen Natalia Pettersson', 'Mr. August Meyer',\n",
       "       'Mrs. Norman Campbell (Bertha Griggs) Chambers',\n",
       "       'Mr. William Alexander', 'Mr. James Lester',\n",
       "       'Mr. Richard James Slemen', 'Miss. Ebba Iris Alfrida Andersson',\n",
       "       'Mr. Ernest Portage Tomlin', 'Mr. Richard Fry',\n",
       "       'Miss. Wendla Maria Heininen', 'Mr. Albert Mallet',\n",
       "       'Mr. John Fredrik Alexander Holm', 'Master. Karl Thorsten Skoog',\n",
       "       'Mrs. Charles Melville (Clara Jennings Gregg) Hays',\n",
       "       'Mr. Nikola Lulic', 'Jonkheer. John George Reuchlin',\n",
       "       'Mrs. (Beila) Moor', 'Master. Urho Abraham Panula',\n",
       "       'Mr. John Flynn', 'Mr. Len Lam', 'Master. Andre Mallet',\n",
       "       'Mr. Thomas Joseph McCormack',\n",
       "       'Mrs. George Nelson (Martha Evelyn) Stone',\n",
       "       'Mrs. Antoni (Selini Alexander) Yasbeck',\n",
       "       'Master. George Sibley Richards', 'Mr. Amin Saad',\n",
       "       'Mr. Albert Augustsson', 'Mr. Owen George Allum',\n",
       "       'Miss. Sara Rebecca Compton', 'Mr. Jakob Pasic',\n",
       "       'Mr. Maurice Sirota', 'Mr. Chang Chip', 'Mr. Pierre Marechal',\n",
       "       'Mr. Ilmari Rudolf Alhomaki', 'Mr. Thomas Charles Mudd',\n",
       "       'Miss. Augusta Serepeca', 'Mr. Peter L Lemberopolous',\n",
       "       'Mr. Jeso Culumovic', 'Mr. Anthony Abbing',\n",
       "       'Mr. Douglas Bullen Sage', 'Mr. Marin Markoff', 'Rev. John Harper',\n",
       "       'Mrs. Samuel L (Edwiga Grabowska) Goldenberg',\n",
       "       'Master. Sigvard Harald Elias Andersson', 'Mr. Johan Svensson',\n",
       "       'Miss. Nourelain Boulos', 'Miss. Mary Conover Lines',\n",
       "       'Mrs. Ernest Courtenay (Lilian Hughes) Carter',\n",
       "       'Mrs. Sam (Leah Rosen) Aks',\n",
       "       'Mrs. George Dennick (Mary Hitchcock) Wick',\n",
       "       'Mr. Peter Denis Daly', 'Mrs. Solomon (Latifa Qurban) Baclini',\n",
       "       'Mr. Raihed Razi', 'Mr. Claus Peter Hansen',\n",
       "       'Mr. Frederick Edward Giles',\n",
       "       'Mrs. Frederick Joel (Margaret Welles Barron) Swift',\n",
       "       'Miss. Dorothy Edith Sage', 'Mr. John William Gill',\n",
       "       'Mrs. (Karolina) Bystrom', 'Miss. Asuncion Duran y More',\n",
       "       'Mr. Washington Augustus II Roebling',\n",
       "       'Mr. Philemon van Melkebeke', 'Master. Harold Theodor Johnson',\n",
       "       'Mr. Cerin Balkic',\n",
       "       'Mrs. Richard Leonard (Sallie Monypeny) Beckwith',\n",
       "       'Mr. Frans Olof Carlsson', 'Mr. Victor Vander Cruyssen',\n",
       "       'Mrs. Samuel (Hannah Wizosky) Abelson', 'Miss. Adele Kiamie Najib',\n",
       "       'Mr. Alfred Ossian Gustafsson', 'Mr. Nedelio Petroff',\n",
       "       'Mr. Kristo Laleff',\n",
       "       'Mrs. Thomas Jr (Lily Alexenia Wilson) Potter',\n",
       "       'Mrs. William (Imanita Parrish Hall) Shelley', 'Mr. Johann Markun',\n",
       "       'Miss. Gerda Ulrika Dahlberg', 'Mr. Frederick James Banfield',\n",
       "       'Mr. Henry Jr Sutehall', 'Mrs. William (Margaret Norton) Rice',\n",
       "       'Rev. Juozas Montvila', 'Miss. Margaret Edith Graham',\n",
       "       'Miss. Catherine Helen Johnston', 'Mr. Karl Howell Behr',\n",
       "       'Mr. Patrick Dooley'], dtype=object)"
      ]
     },
     "execution_count": 87,
     "metadata": {},
     "output_type": "execute_result"
    }
   ],
   "source": [
    "titanic[\"Name\"].unique()"
   ]
  },
  {
   "attachments": {},
   "cell_type": "markdown",
   "metadata": {},
   "source": [
    "30. Find if was there any `name` repeated at the Titanic?\n",
    "\n",
    "Hint: There were two people with the same name, who?"
   ]
  },
  {
   "cell_type": "code",
   "execution_count": null,
   "metadata": {},
   "outputs": [
    {
     "data": {
      "text/plain": [
       "887"
      ]
     },
     "execution_count": 88,
     "metadata": {},
     "output_type": "execute_result"
    }
   ],
   "source": []
  },
  {
   "cell_type": "code",
   "execution_count": null,
   "metadata": {},
   "outputs": [
    {
     "name": "stdout",
     "output_type": "stream",
     "text": [
      "[]\n"
     ]
    }
   ],
   "source": [
    "# Check for repeated names in the 'Name' column\n",
    "repeated_names = titanic['Name'][titanic['Name'].duplicated()]\n",
    "\n",
    "# Display the repeated names, if any\n",
    "print(repeated_names.unique())"
   ]
  },
  {
   "attachments": {},
   "cell_type": "markdown",
   "metadata": {},
   "source": [
    "31. Using `matplotlib` find the appropriate visualization to show the distribution of the column `'age'`"
   ]
  },
  {
   "cell_type": "code",
   "execution_count": 23,
   "metadata": {},
   "outputs": [
    {
     "data": {
      "image/png": "[encoded data removed]",
      "text/plain": [
       "<Figure size 640x480 with 1 Axes>"
      ]
     },
     "metadata": {},
     "output_type": "display_data"
    }
   ],
   "source": [
    "sns.histplot(titanic[\"Age\"], bins=50);"
   ]
  },
  {
   "cell_type": "code",
   "execution_count": null,
   "metadata": {},
   "outputs": [
    {
     "data": {
      "image/png": "[encoded data removed]",
      "text/plain": [
       "<Figure size 500x500 with 1 Axes>"
      ]
     },
     "metadata": {},
     "output_type": "display_data"
    }
   ],
   "source": [
    "sns.displot(titanic[\"Age\"], kind=\"kde\");"
   ]
  },
  {
   "attachments": {},
   "cell_type": "markdown",
   "metadata": {},
   "source": [
    "32. Using `matplotlib` find the appropriate plot to visualize the column `'gender'`"
   ]
  },
  {
   "cell_type": "code",
   "execution_count": null,
   "metadata": {},
   "outputs": [],
   "source": []
  },
  {
   "attachments": {},
   "cell_type": "markdown",
   "metadata": {},
   "source": [
    "32b. What if you also plot the column `'gender'` using the function [`countplot`](https://seaborn.pydata.org/generated/seaborn.countplot.html) from the library [`seaborn`](https://seaborn.pydata.org/)?\n",
    "\n",
    "Remember you have never used `seaborn` before, therefore you should install it before importing it."
   ]
  },
  {
   "cell_type": "code",
   "execution_count": null,
   "metadata": {},
   "outputs": [],
   "source": []
  },
  {
   "attachments": {},
   "cell_type": "markdown",
   "metadata": {},
   "source": [
    "33. Using the function [`catplot`](https://seaborn.pydata.org/generated/seaborn.catplot.html) from the library `seaborn`, find out if the hypothesis _\"Women are more likely to survive shipwrecks\"_ is true or not.\n"
   ]
  },
  {
   "cell_type": "code",
   "execution_count": null,
   "metadata": {},
   "outputs": [],
   "source": []
  },
  {
   "attachments": {},
   "cell_type": "markdown",
   "metadata": {},
   "source": [
    "34. Using [`kdeplot`](\"https://seaborn.pydata.org/generated/seaborn.kdeplot.html\") from `seaborn` represent those who not survived distributed by age.<>\n",
    "\n",
    "Hint: First you should \"filter\" the `titanic` dataset where the column \"survived\" is 0, indexing the column `\"age\"` only.\n",
    "\n",
    "Arguments you should pass to the function: \n",
    "\n",
    "    - color = \"red\"\n",
    "    - label = \"Not Survived\"\n",
    "    - shade = True\n",
    "    \n",
    "You should get something like this: "
   ]
  },
  {
   "attachments": {},
   "cell_type": "markdown",
   "metadata": {},
   "source": [
    "![kdeplot](./img/kdeplotsur.png)"
   ]
  },
  {
   "cell_type": "code",
   "execution_count": null,
   "metadata": {},
   "outputs": [],
   "source": []
  }
 ],
 "metadata": {
  "kernelspec": {
   "display_name": "Python 3",
   "language": "python",
   "name": "python3"
  },
  "language_info": {
   "codemirror_mode": {
    "name": "ipython",
    "version": 3
   },
   "file_extension": ".py",
   "mimetype": "text/x-python",
   "name": "python",
   "nbconvert_exporter": "python",
   "pygments_lexer": "ipython3",
   "version": "3.11.9"
  }
 },
 "nbformat": 4,
 "nbformat_minor": 4
}
